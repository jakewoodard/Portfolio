{
 "cells": [
  {
   "cell_type": "code",
   "execution_count": 53,
   "id": "230271f7",
   "metadata": {},
   "outputs": [
    {
     "name": "stdout",
     "output_type": "stream",
     "text": [
      "     Run  Parameter  Epoch_Stop       Fitness  Solution_Found\n",
      "0      1        0.1         999  9.961718e-23            True\n",
      "1      1        0.2         999  1.232595e-32            True\n",
      "2      1        0.3         999  1.494658e-01           False\n",
      "3      1        0.4         999  5.124922e+00           False\n",
      "4      1        0.5         999  0.000000e+00            True\n",
      "..   ...        ...         ...           ...             ...\n",
      "795   20        3.6         999  4.868580e-15            True\n",
      "796   20        3.7         999  1.485373e-09           False\n",
      "797   20        3.8         999  7.295523e-09           False\n",
      "798   20        3.9         999  3.221206e-07           False\n",
      "799   20        4.0         999  3.544799e-07           False\n",
      "\n",
      "[800 rows x 5 columns]\n"
     ]
    }
   ],
   "source": [
    "import pandas as pd\n",
    "import matplotlib.pyplot as plt\n",
    "import numpy as np\n",
    "\n",
    "df = pd.read_csv('social_rosen.csv')\n",
    "\n",
    "# convert the DataFrame to a 2D list\n",
    "df_list = df.values.tolist()\n",
    "\n",
    "# display the 2D list\n",
    "print(df)\n",
    "\n",
    "params = [0.1,0.2,0.3,0.4,0.5,0.6,0.7,0.8,0.9,1.0,1.1,1.2,1.3,1.4,1.5,1.6,1.7,1.8,1.9,2.0,2.1,2.2,2.3,2.4,2.5,2.6,2.7,2.8,2.9,3.0,3.1,3.2,3.3,3.4,3.5,3.6,3.7,3.8,3.9,4.0]"
   ]
  },
  {
   "cell_type": "markdown",
   "id": "dc5947d4",
   "metadata": {},
   "source": [
    "## Find number of runs that did not converge"
   ]
  },
  {
   "cell_type": "code",
   "execution_count": 54,
   "id": "1742997a",
   "metadata": {},
   "outputs": [
    {
     "name": "stdout",
     "output_type": "stream",
     "text": [
      "[16, 15, 12, 11, 9, 14, 16, 20, 20, 20, 20, 20, 20, 20, 20, 20, 20, 20, 20, 20, 20, 20, 20, 20, 20, 20, 20, 20, 20, 20, 20, 20, 20, 20, 20, 12, 2, 0, 0, 0]\n",
      "['0.1', '0.2', '0.3', '0.4', '0.5', '0.6', '0.7', '0.8', '0.9', '1.0', '1.1', '1.2', '1.3', '1.4', '1.5', '1.6', '1.7', '1.8', '1.9', '2.0', '2.1', '2.2', '2.3', '2.4', '2.5', '2.6', '2.7', '2.8', '2.9', '3.0', '3.1', '3.2', '3.3', '3.4', '3.5', '3.6', '3.7', '3.8', '3.9', '4.0']\n"
     ]
    },
    {
     "data": {
      "image/png": "[encoded data removed]",
      "text/plain": [
       "<Figure size 432x288 with 1 Axes>"
      ]
     },
     "metadata": {
      "needs_background": "light"
     },
     "output_type": "display_data"
    }
   ],
   "source": [
    "arr = []\n",
    "param_list = []\n",
    "p = [i for i in range(1, 41)]\n",
    "\n",
    "for i in params:\n",
    "    param_list.append(str(i))\n",
    "    x = df.loc[df[\"Parameter\"] == i]\n",
    "    sol_found = x[\"Solution_Found\"].values.tolist()\n",
    "    num_sol = 0\n",
    "    for s in sol_found:\n",
    "        if s == True:\n",
    "            num_sol += 1\n",
    "    arr.append(num_sol)\n",
    "        \n",
    "print(arr)\n",
    "print(param_list)\n",
    "\n",
    "plt.plot(arr)\n",
    "plt.ylabel(\"Runs that converged to a solution\")\n",
    "plt.xlabel(\"Social\")\n",
    "plt.xticks([])\n",
    "plt.show()\n"
   ]
  },
  {
   "cell_type": "code",
   "execution_count": null,
   "id": "d348330e",
   "metadata": {},
   "outputs": [],
   "source": []
  }
 ],
 "metadata": {
  "kernelspec": {
   "display_name": "Python 3 (ipykernel)",
   "language": "python",
   "name": "python3"
  },
  "language_info": {
   "codemirror_mode": {
    "name": "ipython",
    "version": 3
   },
   "file_extension": ".py",
   "mimetype": "text/x-python",
   "name": "python",
   "nbconvert_exporter": "python",
   "pygments_lexer": "ipython3",
   "version": "3.9.12"
  }
 },
 "nbformat": 4,
 "nbformat_minor": 5
}
