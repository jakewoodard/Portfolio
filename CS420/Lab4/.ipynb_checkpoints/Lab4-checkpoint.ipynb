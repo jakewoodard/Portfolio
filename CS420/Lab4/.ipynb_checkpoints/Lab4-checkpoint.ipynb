{
 "cells": [
  {
   "cell_type": "code",
   "execution_count": 269,
   "id": "b75bb55c",
   "metadata": {
    "scrolled": true
   },
   "outputs": [
    {
     "name": "stdout",
     "output_type": "stream",
     "text": [
      "     Run  Parameter  Epoch_Stop       Fitness  Solution_Found\n",
      "0      1         10         999  2.989708e+01           False\n",
      "1      1         20         999  1.329690e-02           False\n",
      "2      1         30         293  6.375457e-18            True\n",
      "3      1         40         251  9.337031e-19            True\n",
      "4      1         50         184  3.805595e-19            True\n",
      "..   ...        ...         ...           ...             ...\n",
      "195   20         60         301  2.723542e-28            True\n",
      "196   20         70         190  1.819323e-20            True\n",
      "197   20         80         182  9.130526e-25            True\n",
      "198   20         90         276  4.979684e-30            True\n",
      "199   20        100         297  0.000000e+00            True\n",
      "\n",
      "[200 rows x 5 columns]\n"
     ]
    }
   ],
   "source": [
    "import numpy as np\n",
    "import pandas as pd\n",
    "import matplotlib.pyplot as plt\n",
    "import seaborn as sns\n",
    "\n",
    "# Read in CSV here\n",
    "data = pd.read_csv(\"num_part_rosen.csv\")\n",
    "print(data)"
   ]
  },
  {
   "cell_type": "code",
   "execution_count": 271,
   "id": "5d9add5f",
   "metadata": {},
   "outputs": [
    {
     "name": "stdout",
     "output_type": "stream",
     "text": [
      "[20, 30, 40, 50, 60, 70, 80, 90, 100]\n"
     ]
    },
    {
     "data": {
      "text/plain": [
       "<Figure size 576x432 with 0 Axes>"
      ]
     },
     "metadata": {},
     "output_type": "display_data"
    },
    {
     "data": {
      "image/png": "[encoded data removed]",
      "text/plain": [
       "<Figure size 432x288 with 1 Axes>"
      ]
     },
     "metadata": {
      "needs_background": "light"
     },
     "output_type": "display_data"
    }
   ],
   "source": [
    "df = data.loc[data[\"Solution_Found\"] == True]\n",
    "df_sorted = df.sort_values(by='Parameter')\n",
    "\n",
    "x_tix = sorted(df['Parameter'].unique())\n",
    "print(x_tix)\n",
    "\n",
    "avg_list = []\n",
    "tix_lis = []\n",
    "#x_tix2 = [1,2,3,4,5,6,7,8,9,10,11,12,13,14,15,16,17,18,19,20,21,22,23,24,25,26,27,28,29,30,31,32,33,34,35,36,37]\n",
    "x_tix2 = [1,2,3,4,5,6,7,8,9]\n",
    "\n",
    "for x in x_tix:\n",
    "    new = df_sorted.loc[df_sorted[\"Parameter\"]==x]\n",
    "    avg = np.mean(new[\"Epoch_Stop\"])\n",
    "    avg_list.append(avg)\n",
    "    tix_lis.append(str(x))\n",
    "    \n",
    "# increase fig size\n",
    "fig = plt.figure(figsize=(8, 6))\n",
    "\n",
    "# Create a box plot of the data\n",
    "df_sorted.boxplot(column='Epoch_Stop', by='Parameter')\n",
    "\n",
    "# Create line graph of averages\n",
    "plt.plot(x_tix2, avg_list, marker='o')\n",
    "\n",
    "# Set the title and axis labels\n",
    "plt.ylabel('Epoch Stop')\n",
    "plt.xlabel('Social')\n",
    "plt.xticks([])\n",
    "plt.title('')\n",
    "plt.show()"
   ]
  },
  {
   "cell_type": "code",
   "execution_count": null,
   "id": "e0d08f00",
   "metadata": {},
   "outputs": [],
   "source": []
  }
 ],
 "metadata": {
  "kernelspec": {
   "display_name": "Python 3 (ipykernel)",
   "language": "python",
   "name": "python3"
  },
  "language_info": {
   "codemirror_mode": {
    "name": "ipython",
    "version": 3
   },
   "file_extension": ".py",
   "mimetype": "text/x-python",
   "name": "python",
   "nbconvert_exporter": "python",
   "pygments_lexer": "ipython3",
   "version": "3.9.12"
  }
 },
 "nbformat": 4,
 "nbformat_minor": 5
}
