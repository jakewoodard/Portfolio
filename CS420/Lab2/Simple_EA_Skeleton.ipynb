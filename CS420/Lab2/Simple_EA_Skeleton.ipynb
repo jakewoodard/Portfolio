{
 "cells": [
  {
   "cell_type": "code",
   "execution_count": 2,
   "id": "9c36474c",
   "metadata": {},
   "outputs": [
    {
     "ename": "TypeError",
     "evalue": "'tuple' object cannot be interpreted as an integer",
     "output_type": "error",
     "traceback": [
      "\u001b[0;31m---------------------------------------------------------------------------\u001b[0m",
      "\u001b[0;31mTypeError\u001b[0m                                 Traceback (most recent call last)",
      "Input \u001b[0;32mIn [2]\u001b[0m, in \u001b[0;36m<cell line: 58>\u001b[0;34m()\u001b[0m\n\u001b[1;32m     71\u001b[0m \u001b[38;5;28;01mfor\u001b[39;00m i \u001b[38;5;129;01min\u001b[39;00m \u001b[38;5;28mrange\u001b[39m(\u001b[38;5;241m0\u001b[39m,pop_size,\u001b[38;5;241m2\u001b[39m):\n\u001b[1;32m     72\u001b[0m     c1, c2 \u001b[38;5;241m=\u001b[39m uniform_crossover(p_c, population[parents[i]], population[i])\n\u001b[0;32m---> 73\u001b[0m     c1 \u001b[38;5;241m=\u001b[39m \u001b[43mmutation\u001b[49m\u001b[43m(\u001b[49m\u001b[43mp_m\u001b[49m\u001b[43m,\u001b[49m\u001b[43m \u001b[49m\u001b[43mc1\u001b[49m\u001b[43m)\u001b[49m\n\u001b[1;32m     74\u001b[0m     c2 \u001b[38;5;241m=\u001b[39m mutation(p_m, c2)\n\u001b[1;32m     75\u001b[0m     children[i,:] \u001b[38;5;241m=\u001b[39m c1[:]\n",
      "Input \u001b[0;32mIn [2]\u001b[0m, in \u001b[0;36mmutation\u001b[0;34m(p_m, p)\u001b[0m\n\u001b[1;32m     28\u001b[0m ind_len \u001b[38;5;241m=\u001b[39m p\u001b[38;5;241m.\u001b[39mshape\n\u001b[1;32m     29\u001b[0m c \u001b[38;5;241m=\u001b[39m p\u001b[38;5;241m.\u001b[39mcopy()\n\u001b[0;32m---> 30\u001b[0m \u001b[38;5;28;01mfor\u001b[39;00m i \u001b[38;5;129;01min\u001b[39;00m \u001b[38;5;28;43mrange\u001b[39;49m\u001b[43m(\u001b[49m\u001b[43mind_len\u001b[49m\u001b[43m)\u001b[49m:\n\u001b[1;32m     31\u001b[0m     \u001b[38;5;28;01mif\u001b[39;00m (np\u001b[38;5;241m.\u001b[39mrandom\u001b[38;5;241m.\u001b[39mrandom() \u001b[38;5;241m<\u001b[39m p_m):\n\u001b[1;32m     32\u001b[0m         \u001b[38;5;28;01mif\u001b[39;00m (c[i] \u001b[38;5;241m==\u001b[39m \u001b[38;5;241m0\u001b[39m):\n",
      "\u001b[0;31mTypeError\u001b[0m: 'tuple' object cannot be interpreted as an integer"
     ]
    }
   ],
   "source": [
    "import numpy as np\n",
    "import matplotlib.pyplot as plt\n",
    "\n",
    "def fitness(x):\n",
    "    # Add fitness function here\n",
    "    return np.sum(x)\n",
    "\n",
    "def uniform_crossover(p_c, p1, p2):\n",
    "    # Return children\n",
    "    if (np.random.random() < p_c):\n",
    "        ind_len, = p1.shape\n",
    "        c1 = np.zeros(ind_len)\n",
    "        c2 = np.zeros(ind_len)\n",
    "        for i in range(ind_len):\n",
    "            if (np.random.random() < 0.5):\n",
    "                c1[i] = p1[i]\n",
    "                c2[i] = p2[i]\n",
    "            else:\n",
    "                c1[i] = p2[i]\n",
    "                c2[i] = p1[i]\n",
    "    else:\n",
    "        c1 = p1.copy()\n",
    "        c2 = p2.copy()\n",
    "    return c1, c2\n",
    "\n",
    "def mutation(p_m, p):\n",
    "    # Return child\n",
    "    ind_len = p.shape\n",
    "    c = p.copy()\n",
    "    for i in range(ind_len):\n",
    "        if (np.random.random() < p_m):\n",
    "            if (c[i] == 0):\n",
    "                c[i] = 1\n",
    "            else:\n",
    "                c[i] = 0\n",
    "    return c\n",
    "\n",
    "def tournament_selection(fitnesses, ts):\n",
    "    # Return index of selected individual\n",
    "    tourn = np.random.choice(range(len(fitnesses)), ts, replace=False)\n",
    "    tourn_fit = [fitnesses[i] for i in tourn]\n",
    "    return tourn[np.argmax(tourn_fit)]\n",
    "\n",
    "pop_size = 100\n",
    "ind_len = 50\n",
    "p_c = 0.5\n",
    "p_m = 0.01\n",
    "\n",
    "# Initialize binary population\n",
    "population = np.random.randint(0,2,(pop_size, ind_len))\n",
    "# Start at generation 0\n",
    "gen = 0\n",
    "\n",
    "# Track relevant fitness info\n",
    "mean_fits = []\n",
    "max_fits = []\n",
    "\n",
    "while (gen < 100):\n",
    "    # Initialize children\n",
    "    children = np.zeros((pop_size, ind_len))\n",
    "    # Calculate fitnesses\n",
    "    fitnesses = [fitness(x) for x in population]\n",
    "    # Track relevant fitness info\n",
    "    mean_fits.append(np.mean(fitnesses))\n",
    "    max_fits\n",
    "    # Print generation info and increment gen\n",
    "    gen += 1\n",
    "    # Select parents\n",
    "    parents = [tournament_selection(fitnesses, 3) for i in range(pop_size)]\n",
    "    # Create children in pairs\n",
    "    for i in range(0,pop_size,2):\n",
    "        c1, c2 = uniform_crossover(p_c, population[parents[i]], population[i])\n",
    "        c1 = mutation(p_m, c1)\n",
    "        c2 = mutation(p_m, c2)\n",
    "        children[i,:] = c1[:]\n",
    "        children[i+1, :] = c2[:]\n",
    "        \n",
    "    # Replace population with children\n",
    "    population = children"
   ]
  },
  {
   "cell_type": "code",
   "execution_count": null,
   "id": "586e52c5",
   "metadata": {},
   "outputs": [],
   "source": [
    "# Plot the fitness info\n",
    "plt.plot(range(gen), mean_fits)\n",
    "plt.plot(range(gen), max_fits)"
   ]
  }
 ],
 "metadata": {
  "kernelspec": {
   "display_name": "Python 3 (ipykernel)",
   "language": "python",
   "name": "python3"
  },
  "language_info": {
   "codemirror_mode": {
    "name": "ipython",
    "version": 3
   },
   "file_extension": ".py",
   "mimetype": "text/x-python",
   "name": "python",
   "nbconvert_exporter": "python",
   "pygments_lexer": "ipython3",
   "version": "3.9.12"
  }
 },
 "nbformat": 4,
 "nbformat_minor": 5
}
