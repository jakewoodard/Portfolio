{
 "cells": [
  {
   "cell_type": "code",
   "execution_count": 2,
   "id": "c8684354",
   "metadata": {},
   "outputs": [],
   "source": [
    "# import libraries\n",
    "import numpy as np\n",
    "import matplotlib.pyplot as plt"
   ]
  },
  {
   "cell_type": "code",
   "execution_count": 3,
   "id": "b2fb1658",
   "metadata": {},
   "outputs": [],
   "source": [
    "def elementary_ca(steps, size, rho, rule_index):\n",
    "        # Initialize the cells with size and time steps\n",
    "    cells = np.zeros((steps,size))\n",
    "    \n",
    "    # Set up cells with initial cars\n",
    "    cells[0,:int(rho*size)] = 1\n",
    "    np.random.shuffle(cells[0])\n",
    "    \n",
    "    # Extract our lookup table\n",
    "    lookup_table = [int(i) for i in reversed(bin(rule_index)[2:].zfill(8))]\n",
    "    print(lookup_table)\n",
    "    # Step through all time steps and update all elements\n",
    "    for i in range(steps-1):\n",
    "        for j in range(size):\n",
    "            left = (j-1)%size\n",
    "            right = (j+1)%size\n",
    "            index = 4*cells[i,left]+2*cells[i,j]+cells[i,right]\n",
    "            cells[i+1,j] = lookup_table[int(index)]\n",
    "    \n",
    "    return cells"
   ]
  },
  {
   "cell_type": "code",
   "execution_count": 6,
   "id": "4f66b137",
   "metadata": {},
   "outputs": [
    {
     "name": "stdout",
     "output_type": "stream",
     "text": [
      "[0, 0, 0, 0, 0, 0, 0, 0]\n"
     ]
    },
    {
     "data": {
      "text/plain": [
       "<matplotlib.image.AxesImage at 0x7fd811babc10>"
      ]
     },
     "execution_count": 6,
     "metadata": {},
     "output_type": "execute_result"
    },
    {
     "data": {
      "image/png": "[encoded data removed]",
      "text/plain": [
       "<Figure size 432x288 with 1 Axes>"
      ]
     },
     "metadata": {
      "needs_background": "light"
     },
     "output_type": "display_data"
    }
   ],
   "source": [
    "steps = 100\n",
    "size = 100\n",
    "rho = 0.1\n",
    "\n",
    "np.random.seed(0)\n",
    "\n",
    "x = elementary_ca(steps, size, rho, 0)\n",
    "plt.imshow(x,cmap='binary')"
   ]
  },
  {
   "cell_type": "code",
   "execution_count": 5,
   "id": "e651901c",
   "metadata": {},
   "outputs": [
    {
     "name": "stdout",
     "output_type": "stream",
     "text": [
      "10111000\n",
      "[0, 0, 0, 1, 1, 1, 0, 1]\n"
     ]
    }
   ],
   "source": [
    "bin(184)[2:]\n",
    "print(bin(184)[2:])\n",
    "lookup_table = [int(i) for i in reversed(bin(184)[2:])]\n",
    "print(lookup_table)"
   ]
  },
  {
   "cell_type": "code",
   "execution_count": null,
   "id": "2cf6b5c1",
   "metadata": {},
   "outputs": [],
   "source": []
  }
 ],
 "metadata": {
  "kernelspec": {
   "display_name": "Python 3 (ipykernel)",
   "language": "python",
   "name": "python3"
  },
  "language_info": {
   "codemirror_mode": {
    "name": "ipython",
    "version": 3
   },
   "file_extension": ".py",
   "mimetype": "text/x-python",
   "name": "python",
   "nbconvert_exporter": "python",
   "pygments_lexer": "ipython3",
   "version": "3.9.12"
  }
 },
 "nbformat": 4,
 "nbformat_minor": 5
}
