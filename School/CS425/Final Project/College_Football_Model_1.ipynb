{
 "cells": [
  {
   "cell_type": "markdown",
   "id": "019f8c71",
   "metadata": {},
   "source": [
    "# College Football Prediction Model"
   ]
  },
  {
   "cell_type": "code",
   "execution_count": 2,
   "id": "c46feeeb",
   "metadata": {},
   "outputs": [],
   "source": [
    "import matplotlib.pyplot as plt\n",
    "import numpy as np\n",
    "import pandas as pd\n",
    "\n",
    "from sklearn.preprocessing import StandardScaler\n",
    "from sklearn.model_selection import train_test_split\n",
    "from sklearn.metrics import accuracy_score\n",
    "from sklearn.neural_network import MLPClassifier\n",
    "from sklearn.model_selection import KFold\n",
    "\n",
    "import warnings\n",
    "warnings.filterwarnings(\"ignore\")"
   ]
  },
  {
   "cell_type": "code",
   "execution_count": 3,
   "id": "41fa1f40",
   "metadata": {},
   "outputs": [
    {
     "name": "stdout",
     "output_type": "stream",
     "text": [
      "       id             school      conference    color\n",
      "0    2005          Air Force   Mountain West  #004a7b\n",
      "1    2006              Akron    Mid-American  #00285e\n",
      "2     333            Alabama             SEC  #690014\n",
      "3    2026  Appalachian State        Sun Belt  #000000\n",
      "4      12            Arizona          Pac-12  #002449\n",
      "..    ...                ...             ...      ...\n",
      "128   277      West Virginia          Big 12  #FFC600\n",
      "126    98   Western Kentucky  Conference USA  #F32026\n",
      "127  2711   Western Michigan    Mid-American  #532e1f\n",
      "129   275          Wisconsin         Big Ten  #A00001\n",
      "130  2751            Wyoming   Mountain West  #533B22\n",
      "\n",
      "[131 rows x 4 columns]\n"
     ]
    }
   ],
   "source": [
    "# all data has been pulled from collegefootballdata.com\n",
    "\n",
    "# read in team list and extract only school, color, and conference\n",
    "# Note: Only FBS teams matter aka these 131 teams\n",
    "# we do not care about FCS data due to the massive gap \n",
    "# in talent between these divisions\n",
    "df = pd.read_csv(\"TEAMS.csv\")\n",
    "df_teams = df[[\"id\", \"school\", \"conference\", \"color\"]]\n",
    "df_teams.sort_values(by=[\"school\"], inplace=True)\n",
    "print(df_teams)"
   ]
  },
  {
   "cell_type": "code",
   "execution_count": 4,
   "id": "8fa03bc4",
   "metadata": {},
   "outputs": [
    {
     "name": "stdout",
     "output_type": "stream",
     "text": [
      "                school   srs\n",
      "17           Air Force   2.3\n",
      "94               Akron -14.2\n",
      "106            Alabama  19.6\n",
      "24   Appalachian State  -0.6\n",
      "46             Arizona  -1.7\n",
      "..                 ...   ...\n",
      "16       West Virginia   5.0\n",
      "64    Western Kentucky  -1.8\n",
      "81    Western Michigan -13.9\n",
      "22           Wisconsin   4.6\n",
      "10             Wyoming -10.7\n",
      "\n",
      "[131 rows x 2 columns]\n"
     ]
    }
   ],
   "source": [
    "# read in coach data\n",
    "# extract school of coach and their rating from the \"simple rating system\"\n",
    "df = pd.read_csv(\"COACH_RECORD.csv\")\n",
    "df_coach = df[[\"school\", \"srs\"]]\n",
    "# dropping this row bc they had Univ. of South FL in here twice\n",
    "df_coach = df_coach.drop(df.index[110])\n",
    "df_coach.sort_values(by=[\"school\"], inplace=True)\n",
    "print(df_coach)"
   ]
  },
  {
   "cell_type": "code",
   "execution_count": 5,
   "id": "b44a34e9",
   "metadata": {
    "scrolled": false
   },
   "outputs": [
    {
     "name": "stdout",
     "output_type": "stream",
     "text": [
      "FCS teams removed:\n",
      "['Southern', 'Mercer', 'Portland State', 'Bryant', 'Samford', 'Mississippi Valley State', 'Duquesne', 'Montana State', 'North Carolina Central', 'Western Carolina', 'Southeastern Louisiana', 'Towson', 'Monmouth', 'Tennessee Tech', 'Villanova', 'Arkansas-Pine Bluff', 'Murray State', 'Missouri State', 'Campbell', 'South Dakota', 'Florida A&M', 'North Carolina A&T', 'Eastern Washington', 'Eastern Kentucky', 'Southern Utah', 'Northern Arizona', 'Idaho', 'Colgate', 'Central Arkansas', 'North Dakota State', 'Lamar', 'Northwestern State', 'Prairie View', 'Albany', 'Cal Poly', 'Kennesaw State', 'The Citadel', 'Alabama A&M', 'New Hampshire', 'William & Mary', 'San Diego', 'Alcorn State', 'Bethune-Cookman', 'Lafayette', 'Yale', 'Alabama State', 'Richmond', 'Jackson State', 'Austin Peay', 'Youngstown State', 'Morgan State', 'Valparaiso', 'Stony Brook', 'Elon', 'North Alabama', 'Eastern Illinois', 'Montana', 'Wofford', 'Furman', 'Southern Illinois', 'Texas Southern', 'South Carolina State', 'Robert Morris', 'UC Davis', 'Nicholls', 'Wagner', 'Jacksonville State', 'Norfolk State', 'Delaware', 'UT Martin', 'Houston Christian', 'Stephen F. Austin', 'St Francis (PA)', 'Morehead State', 'Princeton', 'Sam Houston State', 'Central Connecticut', 'East Tennessee State', 'Grambling', 'Abilene Christian', 'Western Illinois', 'Indiana State', 'Gardner-Webb', 'Incarnate Word', 'South Dakota State', 'Idaho State', 'Weber State', 'Sacramento State', 'Hampton', 'Chattanooga', 'Jacksonville', 'Northern Iowa', 'Lehigh', 'Fordham', 'Rhode Island', 'Illinois State', 'Charleston Southern', 'Northern Colorado', 'Maine', 'McNeese', 'Tennessee State', 'Southeast Missouri State']\n",
      "\n",
      "Filtered Team Talent Data\n",
      "                school   talent\n",
      "232          Air Force     0.00\n",
      "94               Akron   456.15\n",
      "0              Alabama  1016.79\n",
      "93   Appalachian State   456.66\n",
      "47             Arizona   652.06\n",
      "..                 ...      ...\n",
      "42       West Virginia   662.57\n",
      "80    Western Kentucky   495.64\n",
      "96    Western Michigan   449.89\n",
      "24           Wisconsin   744.44\n",
      "124            Wyoming   292.03\n",
      "\n",
      "[131 rows x 2 columns]\n"
     ]
    }
   ],
   "source": [
    "# read in team talent composite data\n",
    "# these are ratings on each teams based on\n",
    "# an average of different recruiting sights\n",
    "df_talent = pd.read_csv(\"TEAM_TALENT_COMP.csv\")\n",
    "df_talent = df_talent[[\"school\", \"talent\"]]\n",
    "df_talent.sort_values(by=[\"school\"], inplace=True)\n",
    "\n",
    "# remove all FCS/lower division teams\n",
    "print(\"FCS teams removed:\")\n",
    "fcs = list(set(df_teams['school']).symmetric_difference(set(df_talent['school'])))\n",
    "print(fcs)\n",
    "\n",
    "filter = df_talent[\"school\"].isin(df_teams[\"school\"])\n",
    "df_talent = df_talent[filter]\n",
    "print()\n",
    "print(\"Filtered Team Talent Data\")\n",
    "\n",
    "print(df_talent)\n"
   ]
  },
  {
   "cell_type": "code",
   "execution_count": 6,
   "id": "245d79db",
   "metadata": {},
   "outputs": [
    {
     "name": "stdout",
     "output_type": "stream",
     "text": [
      "       id             school      conference    color   srs   talent\n",
      "0    2005          Air Force   Mountain West  #004a7b   2.3     0.00\n",
      "1    2006              Akron    Mid-American  #00285e -14.2   456.15\n",
      "2     333            Alabama             SEC  #690014  19.6  1016.79\n",
      "3    2026  Appalachian State        Sun Belt  #000000  -0.6   456.66\n",
      "4      12            Arizona          Pac-12  #002449  -1.7   652.06\n",
      "..    ...                ...             ...      ...   ...      ...\n",
      "126   277      West Virginia          Big 12  #FFC600   5.0   662.57\n",
      "127    98   Western Kentucky  Conference USA  #F32026  -1.8   495.64\n",
      "128  2711   Western Michigan    Mid-American  #532e1f -13.9   449.89\n",
      "129   275          Wisconsin         Big Ten  #A00001   4.6   744.44\n",
      "130  2751            Wyoming   Mountain West  #533B22 -10.7   292.03\n",
      "\n",
      "[131 rows x 6 columns]\n"
     ]
    }
   ],
   "source": [
    "# now we can combine the previous three datasets into one\n",
    "# that consists of school, conference, coach rating, and talent rating\n",
    "d1 = pd.merge(df_teams, df_coach, on ='school')\n",
    "team_data = pd.merge(d1, df_talent, on ='school')\n",
    "print(team_data)"
   ]
  },
  {
   "cell_type": "code",
   "execution_count": 7,
   "id": "ab2d5032",
   "metadata": {},
   "outputs": [
    {
     "data": {
      "image/png": "[encoded data removed]",
      "text/plain": [
       "<Figure size 432x288 with 1 Axes>"
      ]
     },
     "metadata": {
      "needs_background": "light"
     },
     "output_type": "display_data"
    }
   ],
   "source": [
    "# scatter plot that represents teams based on\n",
    "# talent and coaching acumen\n",
    "\n",
    "plt.scatter(team_data[\"srs\"], team_data[\"talent\"], c = team_data[\"color\"])\n",
    "plt.xlabel(\"Coach Rating\")\n",
    "plt.ylabel(\"Talent Rating\")\n",
    "plt.title(\"Coach Rating vs. Talent Rating for all FBS teams\")\n",
    "plt.show()"
   ]
  },
  {
   "cell_type": "code",
   "execution_count": 8,
   "id": "06d2ab66",
   "metadata": {},
   "outputs": [
    {
     "name": "stdout",
     "output_type": "stream",
     "text": [
      "      week  neutral_site  home_id  home_points  away_id  away_points  spread  \\\n",
      "1        1          True       77         31.0      158         28.0    12.5   \n",
      "4        1         False      328         31.0       41         20.0   -24.0   \n",
      "5        1         False      356         38.0     2751          6.0   -14.0   \n",
      "10       1         False     2638         13.0      249         31.0     1.5   \n",
      "11       1         False      166         12.0     2440         23.0     7.0   \n",
      "...    ...           ...      ...          ...      ...          ...     ...   \n",
      "1195    14          True       61         50.0       99         30.0   -17.5   \n",
      "1196    14         False       68         16.0      278         28.0    -3.0   \n",
      "1197    14         False     2655         45.0     2116         28.0    -3.5   \n",
      "1198    14          True      153         10.0      228         39.0     7.5   \n",
      "1199    14          True      130         43.0     2509         22.0   -16.0   \n",
      "\n",
      "      margin  home_talent  away_talent  home_coach  away_coach  \n",
      "1        3.0       653.48       752.12        -7.8        -1.9  \n",
      "4       11.0       371.37       239.17       -11.7       -11.3  \n",
      "5       32.0       631.46       292.03        12.1       -10.7  \n",
      "10     -18.0       289.39       504.97       -11.2        -4.8  \n",
      "11     -11.0       189.37       416.44       -12.0       -17.7  \n",
      "...      ...          ...          ...         ...         ...  \n",
      "1195    20.0       989.76       872.61        26.1        13.1  \n",
      "1196   -12.0       533.92       502.26         0.6         0.2  \n",
      "1197    17.0       521.86       636.16        10.6         5.7  \n",
      "1198   -29.0       812.94       943.00         3.2        14.6  \n",
      "1199    21.0       847.24       646.08        21.6         6.1  \n",
      "\n",
      "[722 rows x 12 columns]\n"
     ]
    }
   ],
   "source": [
    "# read in final results from 2022 regular season\n",
    "# remove all FCS data, including FBS vs. FCS matchups\n",
    "# remove games that have not happened yet\n",
    "# remove irrelevant columns \n",
    "df_results = pd.read_csv(\"FINAL_RESULTS.csv\")\n",
    "df_spreads = pd.read_csv(\"spreads.csv\")\n",
    "df_spreads = df_spreads.loc[(df_spreads[\"lineProvider\"] == \"consensus\")]\n",
    "df_s = df_spreads[[\"id\", \"spread\"]]\n",
    "r2d2 = pd.merge(df_results, df_s, on =\"id\")\n",
    "df_results = r2d2\n",
    "#r2d2 = pd.merge(df_results, df_spreads, on ='school')\n",
    "#team_data = pd.merge(d1, df_talent, on ='school')\n",
    "#print(team_data)\n",
    "\n",
    "\n",
    "df_results = df_results.loc[(df_results[\"completed\"] == True) & (df_results[\"home_division\"] == \"fbs\") & (df_results[\"away_division\"] == \"fbs\")]\n",
    "df_results.drop(['id', 'excitement_index', 'home_team', 'away_team', 'away_post_win_prob', 'away_pregame_elo', 'away_postgame_elo', 'away_conference','home_postgame_elo', 'home_post_win_prob', 'home_pregame_elo', 'away_division','home_conference', 'home_division', 'season', 'season_type', 'conference_game', 'start_date', 'attendance', 'venue_id', 'venue', 'highlights', 'notes', 'start_time_tbd', 'completed'], axis=1, inplace=True)\n",
    "df_results[\"margin\"] = df_results[\"home_points\"] - df_results[\"away_points\"]\n",
    "df_results.drop(['home_line_scores[0]', 'home_line_scores[1]', 'home_line_scores[2]', 'home_line_scores[3]'], axis=1, inplace=True)\n",
    "df_results.drop(['away_line_scores[0]', 'away_line_scores[1]', 'away_line_scores[2]', 'away_line_scores[3]'], axis=1, inplace=True)\n",
    "df_results = df_results.dropna()\n",
    "\n",
    "# add talent and coach rating for the home and away teams\n",
    "home_tal = []\n",
    "away_tal = []\n",
    "home_c = []\n",
    "away_c = []\n",
    "\n",
    "i = 0\n",
    "for index, row in df_results.iterrows():\n",
    "    i = row['home_id']\n",
    "    team = team_data.loc[team_data[\"id\"] == i]\n",
    "    t = float(team[\"talent\"])\n",
    "    c = float(team[\"srs\"])\n",
    "    home_tal.append(t)\n",
    "    home_c.append(c)\n",
    "    i = row['away_id']\n",
    "    team = team_data.loc[team_data[\"id\"] == i]\n",
    "    t = float(team[\"talent\"])\n",
    "    c = float(team[\"srs\"])\n",
    "    away_tal.append(t)\n",
    "    away_c.append(c)\n",
    "\n",
    "    \n",
    "df_results[\"home_talent\"] = home_tal\n",
    "df_results[\"away_talent\"] = away_tal\n",
    "df_results[\"home_coach\"] = home_c\n",
    "df_results[\"away_coach\"] = away_c\n",
    "\n",
    "print(df_results)"
   ]
  },
  {
   "cell_type": "code",
   "execution_count": 9,
   "id": "3ff02e73",
   "metadata": {},
   "outputs": [
    {
     "data": {
      "image/png": "[encoded data removed]",
      "text/plain": [
       "<Figure size 432x288 with 1 Axes>"
      ]
     },
     "metadata": {
      "needs_background": "light"
     },
     "output_type": "display_data"
    }
   ],
   "source": [
    "# Scatterplot of average home team margin of victory week-to-week\n",
    "m = [] # average margin of victory for home team\n",
    "w = [1,2,3,4,5,6,7,8,9,10,11,12,13,14] # weeks\n",
    "\n",
    "for n in range(1,15):\n",
    "    d = df_results.loc[df_results[\"week\"] == n]\n",
    "    total = d[\"margin\"]\n",
    "    m.append(np.average(total))\n",
    "    \n",
    "plt.scatter(w, m)\n",
    "plt.title(\"Average Home Team Margin of Victory per Week\")\n",
    "plt.xlabel(\"Week\")\n",
    "plt.xticks(w)\n",
    "plt.ylabel(\"Average Margin of Victory\")\n",
    "plt.show()\n",
    "\n",
    "# as you can see, the away team has handled playing on the road\n",
    "# better on average per week"
   ]
  },
  {
   "cell_type": "code",
   "execution_count": 10,
   "id": "5b119ce3",
   "metadata": {},
   "outputs": [
    {
     "name": "stdout",
     "output_type": "stream",
     "text": [
      "N=50\n",
      "L=0.0001\n",
      "score=0.011918108050395046\n",
      "\n",
      "N=50\n",
      "L=0.001\n",
      "score=0.05814915652359598\n",
      "\n",
      "N=50\n",
      "L=0.01\n",
      "score=0.05366485159086056\n",
      "\n",
      "N=50\n",
      "L=0.1\n",
      "score=0.03425955584027333\n",
      "\n",
      "N=50\n",
      "L=1\n",
      "score=0.038770553064275036\n",
      "\n",
      "N=100\n",
      "L=0.0001\n",
      "score=0.022341447789878285\n",
      "\n",
      "N=100\n",
      "L=0.001\n",
      "score=0.056641042067051034\n",
      "\n",
      "N=100\n",
      "L=0.01\n",
      "score=0.05813581037796284\n",
      "\n",
      "N=100\n",
      "L=0.1\n",
      "score=0.0253309844117019\n",
      "\n",
      "N=100\n",
      "L=1\n",
      "score=0.026845771941063423\n",
      "\n",
      "N=200\n",
      "L=0.0001\n",
      "score=0.020873371770232758\n",
      "\n",
      "N=200\n",
      "L=0.001\n",
      "score=0.058129137305146274\n",
      "\n",
      "N=200\n",
      "L=0.01\n",
      "score=0.05963057868887465\n",
      "\n",
      "N=200\n",
      "L=0.1\n",
      "score=0.023849562246423234\n",
      "\n",
      "N=200\n",
      "L=1\n",
      "score=0.017870489002775998\n",
      "\n",
      "N=500\n",
      "L=0.0001\n",
      "score=0.017890508221225707\n",
      "\n",
      "N=500\n",
      "L=0.001\n",
      "score=0.06113869314541961\n",
      "\n",
      "N=500\n",
      "L=0.01\n",
      "score=0.06259342301943199\n",
      "\n",
      "N=500\n",
      "L=0.1\n",
      "score=0.029801943198804182\n",
      "\n",
      "N=500\n",
      "L=1\n",
      "score=0.03427957505872304\n",
      "\n"
     ]
    }
   ],
   "source": [
    "# lets set up our neural network\n",
    "\n",
    "df_r = df_results[[\"week\", \"neutral_site\", \"spread\", \"home_talent\", \"away_talent\", \"home_coach\", \"away_coach\"]]\n",
    "df_y = df_results[[\"margin\"]]\n",
    "y = df_y.to_numpy()\n",
    "X = df_r.to_numpy()\n",
    "\n",
    "X_train, X_test, y_train, y_test = train_test_split(X, y, test_size=0.07, random_state=42)\n",
    "\n",
    "# standardize data? \n",
    "object = StandardScaler()\n",
    "X_train_1 = object.fit_transform(X_train)\n",
    "X_test_1 = object.fit_transform(X_test)\n",
    "X_train = X_train_1\n",
    "X_test = X_test_1\n",
    "\n",
    "splits = KFold(n_splits=3)\n",
    "neuron_arr = [50, 100, 200, 500]\n",
    "learn_arr = [.0001, .001, .01, .1, 1]\n",
    "acc_arr = []\n",
    "\n",
    "# find accuracies for each combination\n",
    "# using K-fold cross-validation\n",
    "for n in neuron_arr:\n",
    "    for l in learn_arr:\n",
    "        scores = []\n",
    "        for train_index, val_index in splits.split(X_train):\n",
    "            clf = MLPClassifier(hidden_layer_sizes=(n),\n",
    "                    random_state=42,\n",
    "                    verbose=False,\n",
    "                    activation=\"tanh\",\n",
    "                    solver=\"sgd\",\n",
    "                    learning_rate_init=l)\n",
    "\n",
    "            X_subtrain = X_train[train_index]\n",
    "            X_val = X_train[val_index]\n",
    "            y_subtrain = y_train[train_index]\n",
    "            y_val = y_train[val_index]\n",
    "            clf.fit(X_subtrain, y_subtrain)\n",
    "            y_predict = clf.predict(X_val)\n",
    "            scores.append(accuracy_score(y_val, y_predict))\n",
    "\n",
    "            \n",
    "        print(\"N=\" + str(n))\n",
    "        print(\"L=\" + str(l))\n",
    "        print(\"score=\" + str(np.mean(scores)) + \"\\n\")\n",
    "        acc_arr.append(np.mean(scores))"
   ]
  },
  {
   "cell_type": "code",
   "execution_count": 11,
   "id": "a2b839ad",
   "metadata": {},
   "outputs": [
    {
     "data": {
      "image/png": "[encoded data removed]",
      "text/plain": [
       "<Figure size 432x288 with 2 Axes>"
      ]
     },
     "metadata": {
      "needs_background": "light"
     },
     "output_type": "display_data"
    }
   ],
   "source": [
    "# Heatmap time\n",
    "accuracy_arr = np.array(acc_arr)\n",
    "acc_2D = accuracy_arr.reshape(4,5)\n",
    "\n",
    "y_labels = [\"50\", \"100\", \"200\", \"500\"]\n",
    "x_labels = [\"0.0001\", \"0.001\", \"0.01\", \"0.1\", \"1\"]\n",
    "\n",
    "plt.imshow(acc_2D, cmap='hot', interpolation='nearest')\n",
    "plt.title('Heatmap of Accuracies')\n",
    "plt.xticks(range(0,len(x_labels)), x_labels)\n",
    "plt.yticks(range(0,len(y_labels)), y_labels)\n",
    "plt.colorbar()\n",
    "plt.xlabel(\"Initial Learning Rate\")\n",
    "plt.ylabel(\"Number of Neurons\")\n",
    "plt.show()\n",
    "\n",
    "# 500 neurons\n",
    "# .01 Learning rate is the best"
   ]
  },
  {
   "cell_type": "code",
   "execution_count": 12,
   "id": "4a6c134c",
   "metadata": {},
   "outputs": [
    {
     "name": "stdout",
     "output_type": "stream",
     "text": [
      "Combination: (500, 200, 100)\n",
      "score=0.04023862908392056\n",
      "\n",
      "Combination: (500, 100)\n",
      "score=0.04919389280375828\n",
      "\n",
      "Combination: (1000, 500, 50)\n",
      "score=0.04470291479820628\n",
      "\n",
      "Combination: (500, 50)\n",
      "score=0.05666106128550075\n",
      "\n"
     ]
    }
   ],
   "source": [
    "combos = [(500,200,100), (500,100), (1000,500,50), (500,50)]\n",
    "\n",
    "for c in combos:\n",
    "    scores = []\n",
    "    for train_index, val_index in splits.split(X_train):\n",
    "        clf = MLPClassifier(hidden_layer_sizes=(c),\n",
    "            random_state=42,\n",
    "            verbose=False,\n",
    "            activation=\"tanh\",\n",
    "            solver=\"sgd\",\n",
    "            learning_rate_init=0.01)\n",
    "\n",
    "        X_subtrain = X_train[train_index]\n",
    "        X_val = X_train[val_index]\n",
    "        y_subtrain = y_train[train_index]\n",
    "        y_val = y_train[val_index]\n",
    "        clf.fit(X_subtrain, y_subtrain)\n",
    "        y_predict = clf.predict(X_val)\n",
    "        scores.append(accuracy_score(y_val, y_predict))\n",
    "    \n",
    "    print(\"Combination: \", end = \"\")\n",
    "    print(c)\n",
    "    print(\"score=\" + str(np.mean(scores)) + \"\\n\")\n",
    "    \n",
    "# combo 100-100-20 works the best, but also this is due to overfitting.\n",
    "# It started predicting every outcome as a field goal win. This is because the most common score \n",
    "# differential is a field goal\n",
    "# notice how the accuracies are so low. this is due to the fact\n",
    "# that it is not projecting a winner, it is projecting the margin of\n",
    "# victory or defeat for the home team. "
   ]
  },
  {
   "cell_type": "code",
   "execution_count": 13,
   "id": "30fc050c",
   "metadata": {},
   "outputs": [
    {
     "data": {
      "text/plain": [
       "MLPClassifier(activation='tanh', hidden_layer_sizes=(1000, 100),\n",
       "              random_state=42, solver='sgd')"
      ]
     },
     "execution_count": 13,
     "metadata": {},
     "output_type": "execute_result"
    }
   ],
   "source": [
    "# The model\n",
    "clf = MLPClassifier(hidden_layer_sizes=((1000,100)),\n",
    "            random_state=42,\n",
    "            verbose=False,\n",
    "            activation=\"tanh\",\n",
    "            solver=\"sgd\",\n",
    "            learning_rate_init=.001)\n",
    "\n",
    "# fit the model\n",
    "clf.fit(X, y)"
   ]
  },
  {
   "cell_type": "code",
   "execution_count": 15,
   "id": "347b7988",
   "metadata": {},
   "outputs": [
    {
     "name": "stdout",
     "output_type": "stream",
     "text": [
      "       id  school    conference    color  srs  talent\n",
      "106  2649  Toledo  Mid-American  #ffffff -3.9  498.98\n",
      "      id   school        conference    color  srs  talent\n",
      "50  2335  Liberty  FBS Independents  #071740 -3.4  161.88\n",
      "New Year's Six Bowl Games\n",
      "Peach Bowl:  Georgia(-3) vs. Ohio State\n",
      "Fiesta Bowl:  Michigan(-3) vs. TCU\n",
      "Orange Bowl: Tennessee(7) vs. Clemson\n",
      "Rose Bowl:  Penn State(-3) vs. Utah\n",
      "Sugar Bowl: Alabama(-28) vs. Kansas State\n",
      "Cotton Bowl:  USC(-28) vs. Tulane\n",
      "\n",
      "National Title Game: Georgia( -3) vs. Michigan\n",
      "\n",
      "\n",
      "\n",
      "Boca Raton Bowl: Toledo( -31) vs. Liberty"
     ]
    }
   ],
   "source": [
    "# Team = ID\n",
    "print(team_data.loc[team_data[\"school\"] == \"Toledo\"])\n",
    "print(team_data.loc[team_data[\"school\"] == \"Liberty\"])\n",
    "\n",
    "# create matchups to test with \n",
    "# format: [\"week\", \"neutral_site\", \"spread\", \"home_id\", \"away_id\", \"home_talent\", \"away_talent\", \"home_coach\", \"away_coach\"]\n",
    "\n",
    "# Predicting the New Year's Six Bowl Games\n",
    "print(\"New Year's Six Bowl Games\")\n",
    "\n",
    "# Peach Bowl\n",
    "peach = [[15, False, -6.5, 989.76, 983.14, 26.1, 21.7]]\n",
    "score_predict1 = clf.predict(peach)\n",
    "print(\"Peach Bowl:  Georgia(\", end = '')\n",
    "print(int(score_predict1)*-1, end ='')\n",
    "print(\") vs. Ohio State\")\n",
    "\n",
    "# Fiesta Bowl\n",
    "fiesta = [[15, True, -7.5, 847.24, 712.05, 21.6, 18.3]]\n",
    "score_predict2 = clf.predict(fiesta)\n",
    "print(\"Fiesta Bowl:  Michigan(\", end = '')\n",
    "print(int(score_predict2)*-1, end ='')\n",
    "print(\") vs. TCU\")\n",
    "\n",
    "# Orange Bowl\n",
    "orange = [[15, True, 6.5, 764.8, 943.0, 18.9, 14.6]]\n",
    "score_predict3 = clf.predict(orange)\n",
    "print(\"Orange Bowl: Tennessee\", end = '(')\n",
    "print(int(score_predict3)*-1, end ='')\n",
    "print(\") vs. Clemson\")\n",
    "\n",
    "# Rose Bowl\n",
    "rose = [[15, True, 2.5, 830.44, 705.12, 17.4, 17.9]]\n",
    "score_predict4 = clf.predict(rose)\n",
    "print(\"Rose Bowl:  Penn State(\", end = '')\n",
    "print(int(score_predict4)*-1, end ='')\n",
    "print(\") vs. Utah\")\n",
    "# Sugar Bowl\n",
    "sugar = [[15, True, -3.5, 1016.79, 584.68, 19.6, 18.0]]\n",
    "score_predict5 = clf.predict(sugar)\n",
    "print(\"Sugar Bowl: Alabama(\", end = '')\n",
    "print(int(score_predict5)*-1, end ='')\n",
    "print(\") vs. Kansas State\")\n",
    "\n",
    "# Cotton Bowl\n",
    "cotton = [[15, True, -1.5, 860.12, 521.86, 11.7, 10.6]]\n",
    "score_predict6 = clf.predict(cotton)\n",
    "print(\"Cotton Bowl:  USC(\", end = '')\n",
    "print(int(score_predict6)*-1, end ='')\n",
    "print(\") vs. Tulane\",)\n",
    "print()\n",
    "\n",
    "# National Championship Game\n",
    "matchup = [[15, True, -8.5, 989.76, 847.24, 26.1, 21.6]]\n",
    "score_predict7 = clf.predict(matchup)\n",
    "print(\"National Title Game:\", end = \" \")\n",
    "print(\"Georgia(\", end = ' ')\n",
    "print(int(score_predict7)*-1, end ='')\n",
    "print(\") vs. Michigan\", end = '')\n",
    "print(\"\\n\\n\")\n",
    "\n",
    "# Boca Raton Bowl\n",
    "matchup = [[15, True, -3.5, 498.98, 161.88, -3.9, -3.4]]\n",
    "score_predict7 = clf.predict(matchup)\n",
    "print(\"Boca Raton Bowl:\", end = \" \")\n",
    "print(\"Toledo(\", end = ' ')\n",
    "print(int(score_predict7)*-1, end ='')\n",
    "print(\") vs. Liberty\", end = '')\n",
    "\n",
    "\n",
    "\n"
   ]
  },
  {
   "cell_type": "code",
   "execution_count": null,
   "id": "5902e0f8",
   "metadata": {},
   "outputs": [],
   "source": []
  },
  {
   "cell_type": "code",
   "execution_count": null,
   "id": "08676c30",
   "metadata": {},
   "outputs": [],
   "source": []
  }
 ],
 "metadata": {
  "kernelspec": {
   "display_name": "Python 3 (ipykernel)",
   "language": "python",
   "name": "python3"
  },
  "language_info": {
   "codemirror_mode": {
    "name": "ipython",
    "version": 3
   },
   "file_extension": ".py",
   "mimetype": "text/x-python",
   "name": "python",
   "nbconvert_exporter": "python",
   "pygments_lexer": "ipython3",
   "version": "3.9.12"
  }
 },
 "nbformat": 4,
 "nbformat_minor": 5
}
