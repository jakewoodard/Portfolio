{
 "cells": [
  {
   "cell_type": "markdown",
   "id": "d058c219",
   "metadata": {},
   "source": [
    "# College Football Prediction Model"
   ]
  },
  {
   "cell_type": "code",
   "execution_count": 19,
   "id": "debe6ca0",
   "metadata": {},
   "outputs": [],
   "source": [
    "import matplotlib.pyplot as plt\n",
    "import numpy as np\n",
    "import pandas as pd\n",
    "\n",
    "from sklearn.preprocessing import StandardScaler\n",
    "from sklearn.model_selection import train_test_split\n",
    "from sklearn.metrics import accuracy_score\n",
    "from sklearn.neural_network import MLPClassifier\n",
    "from sklearn.model_selection import KFold\n",
    "\n",
    "import warnings\n",
    "warnings.filterwarnings(\"ignore\")"
   ]
  },
  {
   "cell_type": "code",
   "execution_count": 20,
   "id": "f17d7a84",
   "metadata": {},
   "outputs": [
    {
     "name": "stdout",
     "output_type": "stream",
     "text": [
      "       id             school      conference    color\n",
      "0    2005          Air Force   Mountain West  #004a7b\n",
      "1    2006              Akron    Mid-American  #00285e\n",
      "2     333            Alabama             SEC  #690014\n",
      "3    2026  Appalachian State        Sun Belt  #000000\n",
      "4      12            Arizona          Pac-12  #002449\n",
      "..    ...                ...             ...      ...\n",
      "128   277      West Virginia          Big 12  #FFC600\n",
      "126    98   Western Kentucky  Conference USA  #F32026\n",
      "127  2711   Western Michigan    Mid-American  #532e1f\n",
      "129   275          Wisconsin         Big Ten  #A00001\n",
      "130  2751            Wyoming   Mountain West  #533B22\n",
      "\n",
      "[131 rows x 4 columns]\n"
     ]
    }
   ],
   "source": [
    "# all data has been pulled from collegefootballdata.com\n",
    "\n",
    "# read in team list and extract only school, color, and conference\n",
    "# Note: Only FBS teams matter aka these 131 teams\n",
    "# we do not care about FCS data due to the massive gap \n",
    "# in talent between these divisions\n",
    "df = pd.read_csv(\"TEAMS.csv\")\n",
    "df_teams = df[[\"id\", \"school\", \"conference\", \"color\"]]\n",
    "df_teams.sort_values(by=[\"school\"], inplace=True)\n",
    "print(df_teams)"
   ]
  },
  {
   "cell_type": "code",
   "execution_count": 21,
   "id": "a4a0aaa9",
   "metadata": {},
   "outputs": [
    {
     "name": "stdout",
     "output_type": "stream",
     "text": [
      "                school   srs\n",
      "17           Air Force   2.3\n",
      "94               Akron -14.2\n",
      "106            Alabama  19.6\n",
      "24   Appalachian State  -0.6\n",
      "46             Arizona  -1.7\n",
      "..                 ...   ...\n",
      "16       West Virginia   5.0\n",
      "64    Western Kentucky  -1.8\n",
      "81    Western Michigan -13.9\n",
      "22           Wisconsin   4.6\n",
      "10             Wyoming -10.7\n",
      "\n",
      "[131 rows x 2 columns]\n"
     ]
    }
   ],
   "source": [
    "# read in coach data\n",
    "# extract school of coach and their rating from the \"simple rating system\"\n",
    "df = pd.read_csv(\"COACH_RECORD.csv\")\n",
    "df_coach = df[[\"school\", \"srs\"]]\n",
    "# dropping this row bc they had Univ. of South FL in here twice\n",
    "df_coach = df_coach.drop(df.index[110])\n",
    "df_coach.sort_values(by=[\"school\"], inplace=True)\n",
    "print(df_coach)"
   ]
  },
  {
   "cell_type": "code",
   "execution_count": 22,
   "id": "354692f1",
   "metadata": {
    "scrolled": false
   },
   "outputs": [
    {
     "name": "stdout",
     "output_type": "stream",
     "text": [
      "FCS teams removed:\n",
      "['North Carolina A&T', 'Samford', 'Richmond', 'Wagner', 'South Dakota State', 'Grambling', 'Charleston Southern', 'Montana', 'Prairie View', 'Sacramento State', 'Jacksonville', 'Lehigh', 'Youngstown State', 'Yale', 'Villanova', 'Murray State', 'Morehead State', 'Cal Poly', 'Southern Utah', 'Eastern Washington', 'Monmouth', 'Sam Houston State', 'Furman', 'North Dakota State', 'Norfolk State', 'Southeastern Louisiana', 'Weber State', 'Northern Iowa', 'Stephen F. Austin', 'Campbell', 'Albany', 'McNeese', 'San Diego', 'Indiana State', 'Idaho', 'Princeton', 'Chattanooga', 'Eastern Kentucky', 'Mississippi Valley State', 'Morgan State', 'Bryant', 'Duquesne', 'Tennessee Tech', 'Alcorn State', 'Western Carolina', 'William & Mary', 'Southern Illinois', 'Central Connecticut', 'East Tennessee State', 'Arkansas-Pine Bluff', 'Incarnate Word', 'Idaho State', 'Valparaiso', 'Gardner-Webb', 'South Dakota', 'Houston Christian', 'Lamar', 'Tennessee State', 'UC Davis', 'Texas Southern', 'Northern Arizona', 'Eastern Illinois', 'Maine', 'Jackson State', 'Robert Morris', 'Abilene Christian', 'Southern', 'UT Martin', 'Wofford', 'Kennesaw State', 'Stony Brook', 'Fordham', 'Montana State', 'Portland State', 'New Hampshire', 'Delaware', 'North Alabama', 'Central Arkansas', 'Illinois State', 'Mercer', 'Northern Colorado', 'Alabama State', 'South Carolina State', 'Elon', 'Nicholls', 'North Carolina Central', 'Austin Peay', 'Hampton', 'Colgate', 'Rhode Island', 'Lafayette', 'Northwestern State', 'Alabama A&M', 'Jacksonville State', 'Western Illinois', 'Missouri State', 'St Francis (PA)', 'Southeast Missouri State', 'The Citadel', 'Bethune-Cookman', 'Florida A&M', 'Towson']\n",
      "\n",
      "Filtered Team Talent Data\n",
      "                school   talent\n",
      "232          Air Force     0.00\n",
      "94               Akron   456.15\n",
      "0              Alabama  1016.79\n",
      "93   Appalachian State   456.66\n",
      "47             Arizona   652.06\n",
      "..                 ...      ...\n",
      "42       West Virginia   662.57\n",
      "80    Western Kentucky   495.64\n",
      "96    Western Michigan   449.89\n",
      "24           Wisconsin   744.44\n",
      "124            Wyoming   292.03\n",
      "\n",
      "[131 rows x 2 columns]\n"
     ]
    }
   ],
   "source": [
    "# read in team talent composite data\n",
    "# these are ratings on each teams based on\n",
    "# an average of different recruiting sights\n",
    "df_talent = pd.read_csv(\"TEAM_TALENT_COMP.csv\")\n",
    "df_talent = df_talent[[\"school\", \"talent\"]]\n",
    "df_talent.sort_values(by=[\"school\"], inplace=True)\n",
    "\n",
    "# remove all FCS/lower division teams\n",
    "print(\"FCS teams removed:\")\n",
    "fcs = list(set(df_teams['school']).symmetric_difference(set(df_talent['school'])))\n",
    "print(fcs)\n",
    "\n",
    "filter = df_talent[\"school\"].isin(df_teams[\"school\"])\n",
    "df_talent = df_talent[filter]\n",
    "print()\n",
    "print(\"Filtered Team Talent Data\")\n",
    "\n",
    "print(df_talent)\n"
   ]
  },
  {
   "cell_type": "code",
   "execution_count": 23,
   "id": "20ea3e38",
   "metadata": {},
   "outputs": [
    {
     "name": "stdout",
     "output_type": "stream",
     "text": [
      "       id             school      conference    color   srs   talent\n",
      "0    2005          Air Force   Mountain West  #004a7b   2.3     0.00\n",
      "1    2006              Akron    Mid-American  #00285e -14.2   456.15\n",
      "2     333            Alabama             SEC  #690014  19.6  1016.79\n",
      "3    2026  Appalachian State        Sun Belt  #000000  -0.6   456.66\n",
      "4      12            Arizona          Pac-12  #002449  -1.7   652.06\n",
      "..    ...                ...             ...      ...   ...      ...\n",
      "126   277      West Virginia          Big 12  #FFC600   5.0   662.57\n",
      "127    98   Western Kentucky  Conference USA  #F32026  -1.8   495.64\n",
      "128  2711   Western Michigan    Mid-American  #532e1f -13.9   449.89\n",
      "129   275          Wisconsin         Big Ten  #A00001   4.6   744.44\n",
      "130  2751            Wyoming   Mountain West  #533B22 -10.7   292.03\n",
      "\n",
      "[131 rows x 6 columns]\n"
     ]
    }
   ],
   "source": [
    "# now we can combine the previous three datasets into one\n",
    "# that consists of school, conference, coach rating, and talent rating\n",
    "d1 = pd.merge(df_teams, df_coach, on ='school')\n",
    "team_data = pd.merge(d1, df_talent, on ='school')\n",
    "print(team_data)"
   ]
  },
  {
   "cell_type": "code",
   "execution_count": 24,
   "id": "08742d7f",
   "metadata": {},
   "outputs": [
    {
     "data": {
      "image/png": "[encoded data removed]",
      "text/plain": [
       "<Figure size 432x288 with 1 Axes>"
      ]
     },
     "metadata": {
      "needs_background": "light"
     },
     "output_type": "display_data"
    }
   ],
   "source": [
    "# scatter plot that represents teams based on\n",
    "# talent and coaching acumen\n",
    "\n",
    "plt.scatter(team_data[\"srs\"], team_data[\"talent\"], c = team_data[\"color\"])\n",
    "plt.xlabel(\"Coach Rating\")\n",
    "plt.ylabel(\"Talent Rating\")\n",
    "plt.title(\"Coach Rating vs. Talent Rating for all FBS teams\")\n",
    "plt.show()"
   ]
  },
  {
   "cell_type": "code",
   "execution_count": 31,
   "id": "2ce7bc30",
   "metadata": {},
   "outputs": [
    {
     "name": "stdout",
     "output_type": "stream",
     "text": [
      "    week  neutral_site  conference_game  home_id  away_id  margin  \\\n",
      "1      1          True             True       77      158     3.0   \n",
      "5      1         False            False      328       41    11.0   \n",
      "6      1         False            False      356     2751    32.0   \n",
      "9      1         False             True     2226     2429    30.0   \n",
      "12     1         False             True     2638      249   -18.0   \n",
      "..   ...           ...              ...      ...      ...     ...   \n",
      "41    15          True            False       61      194     1.0   \n",
      "42    15          True            False      356      344    -9.0   \n",
      "43    15          True            False     2509       99   -56.0   \n",
      "44    15          True            False       30     2655    -1.0   \n",
      "45    15          True            False      254      213   -14.0   \n",
      "\n",
      "    home_talent  away_talent  home_coach  away_coach  \n",
      "1        653.48       752.12        -7.8        -1.9  \n",
      "5        371.37       239.17       -11.7       -11.3  \n",
      "6        631.46       292.03        12.1       -10.7  \n",
      "9        550.51       487.24        -5.8       -18.6  \n",
      "12       289.39       504.97       -11.2        -4.8  \n",
      "..          ...          ...         ...         ...  \n",
      "41       989.76       983.14        26.1        21.7  \n",
      "42       631.46       725.55        12.1        12.2  \n",
      "43       646.08       872.61         6.1        13.1  \n",
      "44       860.12       521.86        11.7        10.6  \n",
      "45       705.12       830.44        17.9        17.4  \n",
      "\n",
      "[775 rows x 10 columns]\n"
     ]
    }
   ],
   "source": [
    "# read in final results from 2022 regular season\n",
    "# remove all FCS data, including FBS vs. FCS matchups\n",
    "# remove games that have not happened yet\n",
    "# remove irrelevant columns \n",
    "df_results = pd.read_csv(\"FINAL_RESULTS.csv\")\n",
    "\n",
    "df_r1 = pd.read_csv(\"data.csv\")\n",
    "\n",
    "# add in bowl season data for 2022\n",
    "df1 = df_r1.assign(week=15)\n",
    "df_results = df_results.append(df1)\n",
    "\n",
    "# manipulate \n",
    "df_results = df_results.loc[(df_results[\"completed\"] == True) & (df_results[\"home_division\"] == \"fbs\") & (df_results[\"away_division\"] == \"fbs\")]\n",
    "df_results.drop(['id', 'excitement_index', 'home_team', 'away_team', 'away_post_win_prob', 'away_pregame_elo', 'away_postgame_elo', 'away_conference','home_postgame_elo', 'home_post_win_prob', 'home_pregame_elo', 'away_division','home_conference', 'home_division', 'season', 'season_type', 'start_date', 'attendance', 'venue_id', 'venue', 'highlights', 'notes', 'start_time_tbd', 'completed'], axis=1, inplace=True)\n",
    "df_results[\"margin\"] = df_results[\"home_points\"] - df_results[\"away_points\"]\n",
    "df_results.drop(['home_points', 'home_line_scores[0]', 'home_line_scores[1]', 'home_line_scores[2]', 'home_line_scores[3]'], axis=1, inplace=True)\n",
    "df_results.drop(['away_points', 'away_line_scores[0]', 'away_line_scores[1]', 'away_line_scores[2]', 'away_line_scores[3]'], axis=1, inplace=True)\n",
    "df_results = df_results.dropna()\n",
    "\n",
    "# add talent and coach rating for the home and away teams\n",
    "home_tal = []\n",
    "away_tal = []\n",
    "home_c = []\n",
    "away_c = []\n",
    "\n",
    "i = 0\n",
    "for index, row in df_results.iterrows():\n",
    "    i = row['home_id']\n",
    "    team = team_data.loc[team_data[\"id\"] == i]\n",
    "    t = float(team[\"talent\"])\n",
    "    c = float(team[\"srs\"])\n",
    "    home_tal.append(t)\n",
    "    home_c.append(c)\n",
    "    i = row['away_id']\n",
    "    team = team_data.loc[team_data[\"id\"] == i]\n",
    "    t = float(team[\"talent\"])\n",
    "    c = float(team[\"srs\"])\n",
    "    away_tal.append(t)\n",
    "    away_c.append(c)\n",
    "\n",
    "    \n",
    "df_results[\"home_talent\"] = home_tal\n",
    "df_results[\"away_talent\"] = away_tal\n",
    "df_results[\"home_coach\"] = home_c\n",
    "df_results[\"away_coach\"] = away_c\n",
    "\n",
    "print(df_results)"
   ]
  },
  {
   "cell_type": "code",
   "execution_count": 32,
   "id": "11aa9902",
   "metadata": {},
   "outputs": [
    {
     "data": {
      "image/png": "[encoded data removed]",
      "text/plain": [
       "<Figure size 432x288 with 1 Axes>"
      ]
     },
     "metadata": {
      "needs_background": "light"
     },
     "output_type": "display_data"
    }
   ],
   "source": [
    "# Scatterplot of average home team margin of victory week-to-week\n",
    "m = [] # average margin of victory for home team\n",
    "w = [1,2,3,4,5,6,7,8,9,10,11,12,13,14] # weeks\n",
    "\n",
    "for n in range(1,15):\n",
    "    d = df_results.loc[df_results[\"week\"] == n]\n",
    "    total = d[\"margin\"]\n",
    "    m.append(np.average(total))\n",
    "    \n",
    "plt.scatter(w, m)\n",
    "plt.title(\"Average Home Team Margin of Victory per Week\")\n",
    "plt.xlabel(\"Week\")\n",
    "plt.xticks(w)\n",
    "plt.ylabel(\"Average Margin of Victory\")\n",
    "plt.show()\n",
    "\n",
    "# as you can see, the away team has handled playing on the road\n",
    "# better on average per week"
   ]
  },
  {
   "cell_type": "code",
   "execution_count": 76,
   "id": "b02eed71",
   "metadata": {},
   "outputs": [
    {
     "name": "stdout",
     "output_type": "stream",
     "text": [
      "N=50\n",
      "L=0.0001\n",
      "score=0.02777777777777778\n",
      "\n",
      "N=50\n",
      "L=0.001\n",
      "score=0.04583333333333333\n",
      "\n",
      "N=50\n",
      "L=0.01\n",
      "score=0.04305555555555555\n",
      "\n",
      "N=50\n",
      "L=0.1\n",
      "score=0.044444444444444446\n",
      "\n",
      "N=50\n",
      "L=1\n",
      "score=0.027777777777777776\n",
      "\n",
      "N=100\n",
      "L=0.0001\n",
      "score=0.049999999999999996\n",
      "\n",
      "N=100\n",
      "L=0.001\n",
      "score=0.048611111111111105\n",
      "\n",
      "N=100\n",
      "L=0.01\n",
      "score=0.04305555555555555\n",
      "\n",
      "N=100\n",
      "L=0.1\n",
      "score=0.04583333333333333\n",
      "\n",
      "N=100\n",
      "L=1\n",
      "score=0.019444444444444445\n",
      "\n",
      "N=200\n",
      "L=0.0001\n",
      "score=0.051388888888888894\n",
      "\n",
      "N=200\n",
      "L=0.001\n",
      "score=0.04305555555555555\n",
      "\n",
      "N=200\n",
      "L=0.01\n",
      "score=0.04305555555555555\n",
      "\n",
      "N=200\n",
      "L=0.1\n",
      "score=0.05972222222222221\n",
      "\n",
      "N=200\n",
      "L=1\n",
      "score=0.02361111111111111\n",
      "\n",
      "N=500\n",
      "L=0.0001\n",
      "score=0.05416666666666667\n",
      "\n",
      "N=500\n",
      "L=0.001\n",
      "score=0.04722222222222222\n",
      "\n",
      "N=500\n",
      "L=0.01\n",
      "score=0.04722222222222222\n",
      "\n",
      "N=500\n",
      "L=0.1\n",
      "score=0.030555555555555558\n",
      "\n",
      "N=500\n",
      "L=1\n",
      "score=0.03333333333333333\n",
      "\n"
     ]
    }
   ],
   "source": [
    "# lets set up our neural network\n",
    "\n",
    "df_r = df_results[[\"week\", \"neutral_site\", \"home_talent\", \"away_talent\", \"home_coach\", \"away_coach\"]]\n",
    "df_y = df_results[\"margin\"]\n",
    "y = df_y.to_numpy()\n",
    "X = df_r.to_numpy()\n",
    "\n",
    "X_train, X_test, y_train, y_test = train_test_split(X, y, test_size=0.07, random_state=42)\n",
    "\n",
    "splits = KFold(n_splits=3)\n",
    "neuron_arr = [50, 100, 200, 500]\n",
    "learn_arr = [.0001, .001, .01, .1, 1]\n",
    "acc_arr = []\n",
    "\n",
    "# find accuracies for each combination\n",
    "# using K-fold cross-validation\n",
    "for n in neuron_arr:\n",
    "    for l in learn_arr:\n",
    "        scores = []\n",
    "        for train_index, val_index in splits.split(X_train):\n",
    "            clf = MLPClassifier(hidden_layer_sizes=(n),\n",
    "                    random_state=42,\n",
    "                    verbose=False,\n",
    "                    activation=\"tanh\",\n",
    "                    solver=\"sgd\",\n",
    "                    learning_rate_init=l)\n",
    "\n",
    "            X_subtrain = X_train[train_index]\n",
    "            X_val = X_train[val_index]\n",
    "            y_subtrain = y_train[train_index]\n",
    "            y_val = y_train[val_index]\n",
    "            clf.fit(X_subtrain, y_subtrain)\n",
    "            y_predict = clf.predict(X_val)\n",
    "            scores.append(accuracy_score(y_val, y_predict))\n",
    "\n",
    "            \n",
    "        print(\"N=\" + str(n))\n",
    "        print(\"L=\" + str(l))\n",
    "        print(\"score=\" + str(np.mean(scores)) + \"\\n\")\n",
    "        acc_arr.append(np.mean(scores))"
   ]
  },
  {
   "cell_type": "code",
   "execution_count": 36,
   "id": "a72bba10",
   "metadata": {},
   "outputs": [
    {
     "data": {
      "image/png": "[encoded data removed]",
      "text/plain": [
       "<Figure size 432x288 with 2 Axes>"
      ]
     },
     "metadata": {
      "needs_background": "light"
     },
     "output_type": "display_data"
    }
   ],
   "source": [
    "# Heatmap time\n",
    "accuracy_arr = np.array(acc_arr)\n",
    "acc_2D = accuracy_arr.reshape(4,5)\n",
    "\n",
    "y_labels = [\"50\", \"100\", \"200\", \"500\"]\n",
    "x_labels = [\"0.0001\", \"0.001\", \"0.01\", \"0.1\", \"1\"]\n",
    "\n",
    "plt.imshow(acc_2D, cmap='hot', interpolation='nearest')\n",
    "plt.title('Heatmap of Accuracies')\n",
    "plt.xticks(range(0,len(x_labels)), x_labels)\n",
    "plt.yticks(range(0,len(y_labels)), y_labels)\n",
    "plt.colorbar()\n",
    "plt.xlabel(\"Initial Learning Rate\")\n",
    "plt.ylabel(\"Number of Neurons\")\n",
    "plt.show()\n",
    "\n",
    "# .001 Learning rate is the best"
   ]
  },
  {
   "cell_type": "code",
   "execution_count": 49,
   "id": "515cbbf8",
   "metadata": {},
   "outputs": [
    {
     "name": "stdout",
     "output_type": "stream",
     "text": [
      "Combination: (100, 100, 10)\n",
      "score=0.024999999999999998\n",
      "\n",
      "Combination: (100, 100, 20)\n",
      "score=0.020833333333333332\n",
      "\n",
      "Combination: (100, 100, 30)\n",
      "score=0.03194444444444444\n",
      "\n",
      "Combination: (100, 100, 40)\n",
      "score=0.05000000000000001\n",
      "\n"
     ]
    }
   ],
   "source": [
    "combos = [(100,100,10), (100,100,20), (100,100,30), (100,100,40)]\n",
    "\n",
    "for c in combos:\n",
    "    scores = []\n",
    "    for train_index, val_index in splits.split(X_train):\n",
    "        clf = MLPClassifier(hidden_layer_sizes=(c),\n",
    "            random_state=42,\n",
    "            verbose=False,\n",
    "            activation=\"tanh\",\n",
    "            solver=\"sgd\",\n",
    "            learning_rate_init=0.0001)\n",
    "\n",
    "        X_subtrain = X_train[train_index]\n",
    "        X_val = X_train[val_index]\n",
    "        y_subtrain = y_train[train_index]\n",
    "        y_val = y_train[val_index]\n",
    "        clf.fit(X_subtrain, y_subtrain)\n",
    "        y_predict = clf.predict(X_val)\n",
    "        scores.append(accuracy_score(y_val, y_predict))\n",
    "    \n",
    "    print(\"Combination: \", end = \"\")\n",
    "    print(c)\n",
    "    print(\"score=\" + str(np.mean(scores)) + \"\\n\")\n",
    "    \n",
    "# combo 100-100-20 works the best, but also this is due to overfitting.\n",
    "# It started predicting every outcome as a field goal win. This is because the most common score \n",
    "# differential is a field goal\n",
    "# notice how the accuracies are so low. this is due to the fact\n",
    "# that it is not projecting a winner, it is projecting the margin of\n",
    "# victory or defeat for the home team. "
   ]
  },
  {
   "cell_type": "code",
   "execution_count": 107,
   "id": "23742d65",
   "metadata": {},
   "outputs": [
    {
     "data": {
      "text/plain": [
       "MLPClassifier(activation='tanh', hidden_layer_sizes=200,\n",
       "              learning_rate_init=0.0001, random_state=42, solver='sgd')"
      ]
     },
     "execution_count": 107,
     "metadata": {},
     "output_type": "execute_result"
    }
   ],
   "source": [
    "# The model\n",
    "clf = MLPClassifier(hidden_layer_sizes=(200),\n",
    "            random_state=42,\n",
    "            verbose=False,\n",
    "            activation=\"tanh\",\n",
    "            solver=\"sgd\",\n",
    "            learning_rate_init=0.0001)\n",
    "\n",
    "# fit the model to \n",
    "clf.fit(X, y)"
   ]
  },
  {
   "cell_type": "code",
   "execution_count": 108,
   "id": "3d1f1d42",
   "metadata": {
    "scrolled": true
   },
   "outputs": [
    {
     "name": "stdout",
     "output_type": "stream",
     "text": [
      "National Title Game\n",
      "UGA( -3) vs. TCU\n",
      "New Year's Six Bowl Games\n",
      "Peach Bowl:  Georgia beats Ohio State by 3\n",
      "Fiesta Bowl: Michigan beats TCU by 7\n",
      "Orange Bowl: Clemson beats Tennessee by 7\n",
      "Rose Bowl:   Penn State beats Utah by 7\n",
      "Sugar Bowl:  Alabama beats Kansas State by 3\n",
      "Cotton Bowl: USC beats Tulane by 3\n",
      "\n",
      "National Title Game\n",
      "NATL TITLE GAME #1: UGA( -7) vs. MICH\n",
      "NATL TITLE GAME #2: OSU( -7) vs. MICH\n",
      "\n",
      "\n"
     ]
    }
   ],
   "source": [
    "# Team = ID\n",
    "#print(team_data.loc[team_data[\"school\"] == \"Vanderbilt\"])\n",
    "#print(team_data.loc[team_data[\"school\"] == \"Tennessee\"])\n",
    "\n",
    "# create matchups to test with \n",
    "# format: [\"week\", \"neutral_site\", \"home_id\", \"away_id\", \"home_talent\", \"away_talent\", \"home_coach\", \"away_coach\"]\n",
    "\n",
    "# Predicting the New Year's Six Bowl Games\n",
    "\n",
    "\n",
    "# National Championship Game\n",
    "matchup = [[16, True, 989.76, 712.05, 26.1, 18.3]]\n",
    "score_predict = clf.predict(matchup)\n",
    "print(\"National Title Game\")\n",
    "print(\"UGA(\", end = ' ')\n",
    "print(int(score_predict)*-1, end ='')\n",
    "print(\") vs. TCU\")\n",
    "\n",
    "print(\"New Year's Six Bowl Games\")\n",
    "# Peach Bowl\n",
    "peach = [[15, True, 989.76, 983.14, 26.1, 21.7]]\n",
    "score_predict = clf.predict(peach)\n",
    "print(\"Peach Bowl:  Georgia beats Ohio State by\", end = ' ')\n",
    "print(int(score_predict))\n",
    "\n",
    "# Fiesta Bowl\n",
    "fiesta = [[15, True, 847.24, 712.05, 21.6, 18.3]]\n",
    "score_predict = clf.predict(fiesta)\n",
    "print(\"Fiesta Bowl: Michigan beats TCU by\", end = ' ')\n",
    "print(int(score_predict))\n",
    "\n",
    "# Orange Bowl\n",
    "orange = [[15, True, 764.8, 943.0, 18.9, 14.6]]\n",
    "score_predict = clf.predict(orange)\n",
    "print(\"Orange Bowl: Clemson beats Tennessee by\", end = ' ')\n",
    "print(int(score_predict)*-1)\n",
    "\n",
    "# Rose Bowl\n",
    "rose = [[15, True, 830.44, 705.12, 17.4, 17.9]]\n",
    "score_predict = clf.predict(rose)\n",
    "print(\"Rose Bowl:   Penn State beats Utah by\", end = ' ')\n",
    "print(int(score_predict))\n",
    "\n",
    "# Sugar Bowl\n",
    "sugar = [[15, True, 1016.79, 584.68, 19.6, 18.0]]\n",
    "score_predict = clf.predict(sugar)\n",
    "print(\"Sugar Bowl:  Alabama beats Kansas State by\", end = ' ')\n",
    "print(int(score_predict))\n",
    "\n",
    "# Cotton Bowl\n",
    "cotton = [[15, True, 860.12, 521.86, 11.7, 10.6]]\n",
    "score_predict = clf.predict(cotton)\n",
    "print(\"Cotton Bowl: USC beats Tulane by\", end = ' ')\n",
    "print(int(score_predict))\n",
    "print()\n",
    "\n",
    "# National Championship Game\n",
    "matchup = [[15, True, 989.76, 847.24, 26.1, 21.6]]\n",
    "score_predict = clf.predict(matchup)\n",
    "print(\"National Title Game\")\n",
    "print(\"NATL TITLE GAME #1:\", end = \" \")\n",
    "print(\"UGA(\", end = ' ')\n",
    "print(int(score_predict)*-1, end ='')\n",
    "print(\") vs. MICH\")\n",
    "\n",
    "# Hypothetical Title Game 2\n",
    "matchup = [[15, True, 983.14, 847.24, 21.7, 21.6]]\n",
    "score_predict7 = clf.predict(matchup)\n",
    "print(\"NATL TITLE GAME #2:\", end = \" \")\n",
    "print(\"OSU(\", end = ' ')\n",
    "print(int(score_predict7)*-1, end ='')\n",
    "print(\") vs. MICH\")\n",
    "print(\"\\n\")\n"
   ]
  },
  {
   "cell_type": "code",
   "execution_count": null,
   "id": "7353c1ac",
   "metadata": {},
   "outputs": [],
   "source": []
  },
  {
   "cell_type": "code",
   "execution_count": null,
   "id": "b7db3704",
   "metadata": {},
   "outputs": [],
   "source": []
  }
 ],
 "metadata": {
  "kernelspec": {
   "display_name": "Python 3 (ipykernel)",
   "language": "python",
   "name": "python3"
  },
  "language_info": {
   "codemirror_mode": {
    "name": "ipython",
    "version": 3
   },
   "file_extension": ".py",
   "mimetype": "text/x-python",
   "name": "python",
   "nbconvert_exporter": "python",
   "pygments_lexer": "ipython3",
   "version": "3.9.12"
  }
 },
 "nbformat": 4,
 "nbformat_minor": 5
}
