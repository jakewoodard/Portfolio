{
 "cells": [
  {
   "cell_type": "markdown",
   "id": "01cd99b9",
   "metadata": {},
   "source": [
    "# Numpy, Pandas, and Matplotlib Example"
   ]
  },
  {
   "cell_type": "code",
   "execution_count": 2,
   "id": "cddd6d38",
   "metadata": {},
   "outputs": [],
   "source": [
    "import numpy as np\n",
    "import pandas as pd\n",
    "import matplotlib.pyplot as plt\n",
    "\n",
    "plt.rcParams[\"figure.figsize\"] = (20,10)"
   ]
  },
  {
   "cell_type": "markdown",
   "id": "74c0c303",
   "metadata": {},
   "source": [
    "### Reading in the data\n",
    "\n",
    "Our first step is to read in the CSV file that contains the population data we're interested in working with."
   ]
  },
  {
   "cell_type": "code",
   "execution_count": 3,
   "id": "eed4fa3d",
   "metadata": {},
   "outputs": [
    {
     "name": "stdout",
     "output_type": "stream",
     "text": [
      "     state/region     ages  year   population\n",
      "0              AL  under18  2012    1117489.0\n",
      "1              AL    total  2012    4817528.0\n",
      "2              AL  under18  2010    1130966.0\n",
      "3              AL    total  2010    4785570.0\n",
      "4              AL  under18  2011    1125763.0\n",
      "...           ...      ...   ...          ...\n",
      "2539          USA    total  2010  309326295.0\n",
      "2540          USA  under18  2011   73902222.0\n",
      "2541          USA    total  2011  311582564.0\n",
      "2542          USA  under18  2012   73708179.0\n",
      "2543          USA    total  2012  313873685.0\n",
      "\n",
      "[2544 rows x 4 columns]\n"
     ]
    }
   ],
   "source": [
    "# Read in CSV here\n",
    "pop_df = pd.read_csv(\"data-USstates-master/state-population.csv\")\n",
    "print(pop_df)"
   ]
  },
  {
   "cell_type": "markdown",
   "id": "015e4d0c",
   "metadata": {},
   "source": [
    "For convenience sake, we want to rename the column state/region to abbreviation."
   ]
  },
  {
   "cell_type": "code",
   "execution_count": 4,
   "id": "850803b7",
   "metadata": {},
   "outputs": [
    {
     "name": "stdout",
     "output_type": "stream",
     "text": [
      "     abbreviation     ages  year   population\n",
      "0              AL  under18  2012    1117489.0\n",
      "1              AL    total  2012    4817528.0\n",
      "2              AL  under18  2010    1130966.0\n",
      "3              AL    total  2010    4785570.0\n",
      "4              AL  under18  2011    1125763.0\n",
      "...           ...      ...   ...          ...\n",
      "2539          USA    total  2010  309326295.0\n",
      "2540          USA  under18  2011   73902222.0\n",
      "2541          USA    total  2011  311582564.0\n",
      "2542          USA  under18  2012   73708179.0\n",
      "2543          USA    total  2012  313873685.0\n",
      "\n",
      "[2544 rows x 4 columns]\n"
     ]
    }
   ],
   "source": [
    "# Rename column\n",
    "pop_df = pop_df.rename(columns={\"state/region\":\"abbreviation\"})\n",
    "print(pop_df)"
   ]
  },
  {
   "cell_type": "markdown",
   "id": "afe75738",
   "metadata": {},
   "source": [
    "### Down-selecting the Data\n",
    "\n",
    "Suppose we want to visualize how the population of Tennessee has changed based on this dataset. First, we want to select only the data associated with Tennessee and sort it based on the year.  We will create a new dataframe with only the Tennessee data using the loc function on dataframes. We can then sort by the year."
   ]
  },
  {
   "cell_type": "code",
   "execution_count": 7,
   "id": "f1e320b1",
   "metadata": {},
   "outputs": [
    {
     "name": "stdout",
     "output_type": "stream",
     "text": [
      "     abbreviation     ages  year  population\n",
      "2063           TN    total  1990   4894492.0\n",
      "2062           TN  under18  1990   1220200.0\n",
      "2060           TN    total  1991   4966587.0\n",
      "2061           TN  under18  1991   1233260.0\n",
      "2057           TN    total  1992   5049742.0\n",
      "2056           TN  under18  1992   1259458.0\n",
      "2059           TN  under18  1993   1285044.0\n",
      "2058           TN    total  1993   5137584.0\n",
      "2055           TN    total  1994   5231438.0\n",
      "2054           TN  under18  1994   1310988.0\n",
      "2053           TN  under18  1995   1331616.0\n",
      "2052           TN    total  1995   5326936.0\n",
      "2050           TN  under18  1996   1345723.0\n",
      "2051           TN    total  1996   5416643.0\n",
      "2047           TN  under18  1997   1359030.0\n",
      "2046           TN    total  1997   5499233.0\n",
      "2049           TN    total  1998   5570045.0\n",
      "2048           TN  under18  1998   1369987.0\n",
      "2043           TN  under18  1999   1385997.0\n",
      "2042           TN    total  1999   5638706.0\n",
      "2045           TN  under18  2000   1399685.0\n",
      "2044           TN    total  2000   5703719.0\n",
      "2041           TN  under18  2001   1407578.0\n",
      "2040           TN    total  2001   5750789.0\n",
      "2039           TN  under18  2002   1414857.0\n",
      "2038           TN    total  2002   5795918.0\n",
      "2035           TN  under18  2003   1424861.0\n",
      "2034           TN    total  2003   5847812.0\n",
      "2037           TN  under18  2004   1433343.0\n",
      "2036           TN    total  2004   5910809.0\n",
      "2033           TN  under18  2005   1449326.0\n",
      "2032           TN    total  2005   5991057.0\n",
      "2031           TN  under18  2006   1470166.0\n",
      "2030           TN    total  2006   6088766.0\n",
      "2027           TN  under18  2007   1482747.0\n",
      "2026           TN    total  2007   6175727.0\n",
      "2029           TN  under18  2008   1494354.0\n",
      "2028           TN    total  2008   6247411.0\n",
      "2023           TN  under18  2009   1494687.0\n",
      "2022           TN    total  2009   6306019.0\n",
      "2021           TN    total  2010   6356683.0\n",
      "2020           TN  under18  2010   1495090.0\n",
      "2019           TN  under18  2011   1491837.0\n",
      "2018           TN    total  2011   6398361.0\n",
      "2017           TN  under18  2012   1492689.0\n",
      "2016           TN    total  2012   6454914.0\n",
      "2025           TN  under18  2013   1491577.0\n",
      "2024           TN    total  2013   6495978.0\n"
     ]
    }
   ],
   "source": [
    "# Down-select data\n",
    "tn_df = pop_df.loc[pop_df[\"abbreviation\"] == \"TN\"]\n",
    "tn_df = tn_df.sort_values(by=\"year\")\n",
    "print(tn_df)"
   ]
  },
  {
   "cell_type": "markdown",
   "id": "b65f6555",
   "metadata": {},
   "source": [
    "### Extracting Numpy Arrays from Dataframes\n",
    "\n",
    "Suppose we want to plot how the under 18 population and the total population has changed throughout this dataset.  We can extract the year, the under 18 population, and the total population into three separate numpy arrays."
   ]
  },
  {
   "cell_type": "code",
   "execution_count": 10,
   "id": "38e80df9",
   "metadata": {},
   "outputs": [
    {
     "name": "stdout",
     "output_type": "stream",
     "text": [
      "[4894492. 4966587. 5049742. 5137584. 5231438. 5326936. 5416643. 5499233.\n",
      " 5570045. 5638706. 5703719. 5750789. 5795918. 5847812. 5910809. 5991057.\n",
      " 6088766. 6175727. 6247411. 6306019. 6356683. 6398361. 6454914. 6495978.]\n"
     ]
    }
   ],
   "source": [
    "# Extra Numpy Array\n",
    "years = np.array(tn_df[tn_df[\"ages\"] == \"total\"][\"year\"])\n",
    "under18 = np.array(tn_df[tn_df[\"ages\"] == \"under18\"][\"population\"])\n",
    "total = np.array(tn_df[tn_df[\"ages\"] == \"total\"][\"population\"])\n",
    "print(total)"
   ]
  },
  {
   "cell_type": "markdown",
   "id": "5126fbcc",
   "metadata": {},
   "source": [
    "## Plotting a Line Plot\n",
    "\n",
    "Now we're ready to plot how the populations are changing in a line plot."
   ]
  },
  {
   "cell_type": "code",
   "execution_count": 13,
   "id": "bbf70573",
   "metadata": {},
   "outputs": [
    {
     "data": {
      "text/plain": [
       "Text(0, 0.5, 'Population')"
      ]
     },
     "execution_count": 13,
     "metadata": {},
     "output_type": "execute_result"
    },
    {
     "data": {
      "image/png": "[encoded data removed]",
      "text/plain": [
       "<Figure size 1440x720 with 1 Axes>"
      ]
     },
     "metadata": {
      "needs_background": "light"
     },
     "output_type": "display_data"
    }
   ],
   "source": [
    "# Plot line plot. Don't forget axis labels!\n",
    "plt.plot(years, total, label=\"Total\")\n",
    "plt.plot(years, under18, label=\"Under 18\")\n",
    "plt.legend()\n",
    "plt.xlabel(\"Year\")\n",
    "plt.ylabel(\"Population\")"
   ]
  },
  {
   "cell_type": "markdown",
   "id": "9c7b6d95",
   "metadata": {},
   "source": [
    "### Plotting a Bar Chart\n",
    "\n",
    "We can visualize this same information via a bar chart."
   ]
  },
  {
   "cell_type": "code",
   "execution_count": 14,
   "id": "baa5ebbe",
   "metadata": {},
   "outputs": [
    {
     "data": {
      "text/plain": [
       "Text(0, 0.5, 'Population')"
      ]
     },
     "execution_count": 14,
     "metadata": {},
     "output_type": "execute_result"
    },
    {
     "data": {
      "image/png": "[encoded data removed]",
      "text/plain": [
       "<Figure size 1440x720 with 1 Axes>"
      ]
     },
     "metadata": {
      "needs_background": "light"
     },
     "output_type": "display_data"
    }
   ],
   "source": [
    "# Bar chart\n",
    "plt.bar(years, total, label=\"Total\")\n",
    "plt.bar(years, under18, label=\"Under 18\")\n",
    "plt.legend()\n",
    "plt.xlabel(\"Year\")\n",
    "plt.ylabel(\"Population\")"
   ]
  },
  {
   "cell_type": "markdown",
   "id": "08a65cfa",
   "metadata": {},
   "source": [
    "### Manipulating Data with Numpy\n",
    "\n",
    "Let's use numpy to calculate the fraction of the total population that is under 18 each year."
   ]
  },
  {
   "cell_type": "code",
   "execution_count": 16,
   "id": "13cb1687",
   "metadata": {},
   "outputs": [
    {
     "name": "stdout",
     "output_type": "stream",
     "text": [
      "[0.24930064 0.24831137 0.24941037 0.25012613 0.25059802 0.24997785\n",
      " 0.24844225 0.24713083 0.24595618 0.24580054 0.24539866 0.24476259\n",
      " 0.24411267 0.24365711 0.24249523 0.24191491 0.24145549 0.2400927\n",
      " 0.23919572 0.23702545 0.23519971 0.23315924 0.23124847 0.22961546]\n"
     ]
    },
    {
     "data": {
      "text/plain": [
       "<BarContainer object of 24 artists>"
      ]
     },
     "execution_count": 16,
     "metadata": {},
     "output_type": "execute_result"
    },
    {
     "data": {
      "image/png": "[encoded data removed]",
      "text/plain": [
       "<Figure size 1440x720 with 1 Axes>"
      ]
     },
     "metadata": {
      "needs_background": "light"
     },
     "output_type": "display_data"
    }
   ],
   "source": [
    "# Calculate and plot fraction under 18\n",
    "frac_under18 = under18 / total\n",
    "print(frac_under18)\n",
    "plt.bar(years, frac_under18)"
   ]
  },
  {
   "cell_type": "markdown",
   "id": "7df7a50f",
   "metadata": {},
   "source": [
    "### Reading multiple CSV files into different data frames"
   ]
  },
  {
   "cell_type": "code",
   "execution_count": 18,
   "id": "32e769c0",
   "metadata": {},
   "outputs": [
    {
     "name": "stdout",
     "output_type": "stream",
     "text": [
      "                   state  area (sq. mi)\n",
      "0                Alabama          52423\n",
      "1                 Alaska         656425\n",
      "2                Arizona         114006\n",
      "3               Arkansas          53182\n",
      "4             California         163707\n",
      "5               Colorado         104100\n",
      "6            Connecticut           5544\n",
      "7               Delaware           1954\n",
      "8                Florida          65758\n",
      "9                Georgia          59441\n",
      "10                Hawaii          10932\n",
      "11                 Idaho          83574\n",
      "12              Illinois          57918\n",
      "13               Indiana          36420\n",
      "14                  Iowa          56276\n",
      "15                Kansas          82282\n",
      "16              Kentucky          40411\n",
      "17             Louisiana          51843\n",
      "18                 Maine          35387\n",
      "19              Maryland          12407\n",
      "20         Massachusetts          10555\n",
      "21              Michigan          96810\n",
      "22             Minnesota          86943\n",
      "23           Mississippi          48434\n",
      "24              Missouri          69709\n",
      "25               Montana         147046\n",
      "26              Nebraska          77358\n",
      "27                Nevada         110567\n",
      "28         New Hampshire           9351\n",
      "29            New Jersey           8722\n",
      "30            New Mexico         121593\n",
      "31              New York          54475\n",
      "32        North Carolina          53821\n",
      "33          North Dakota          70704\n",
      "34                  Ohio          44828\n",
      "35              Oklahoma          69903\n",
      "36                Oregon          98386\n",
      "37          Pennsylvania          46058\n",
      "38          Rhode Island           1545\n",
      "39        South Carolina          32007\n",
      "40          South Dakota          77121\n",
      "41             Tennessee          42146\n",
      "42                 Texas         268601\n",
      "43                  Utah          84904\n",
      "44               Vermont           9615\n",
      "45              Virginia          42769\n",
      "46            Washington          71303\n",
      "47         West Virginia          24231\n",
      "48             Wisconsin          65503\n",
      "49               Wyoming          97818\n",
      "50  District of Columbia             68\n",
      "51           Puerto Rico           3515\n"
     ]
    }
   ],
   "source": [
    "# Read in new CSVs into different data frames\n",
    "ab_df = pd.read_csv(\"data-USstates-master/state-abbrevs.csv\")\n",
    "area_df = pd.read_csv(\"data-USstates-master/state-areas.csv\")"
   ]
  },
  {
   "cell_type": "markdown",
   "id": "3cf423ad",
   "metadata": {},
   "source": [
    "### Merging multiple dataframes together\n",
    "\n",
    "If there are common columns across dataframes, you can merge them together."
   ]
  },
  {
   "cell_type": "code",
   "execution_count": 20,
   "id": "88e3dece",
   "metadata": {},
   "outputs": [
    {
     "name": "stdout",
     "output_type": "stream",
     "text": [
      "        state abbreviation     ages  year  population  area (sq. mi)\n",
      "0     Alabama           AL  under18  2012   1117489.0          52423\n",
      "1     Alabama           AL    total  2012   4817528.0          52423\n",
      "2     Alabama           AL  under18  2010   1130966.0          52423\n",
      "3     Alabama           AL    total  2010   4785570.0          52423\n",
      "4     Alabama           AL  under18  2011   1125763.0          52423\n",
      "...       ...          ...      ...   ...         ...            ...\n",
      "2443  Wyoming           WY  under18  1993    137458.0          97818\n",
      "2444  Wyoming           WY    total  1991    459260.0          97818\n",
      "2445  Wyoming           WY  under18  1991    136720.0          97818\n",
      "2446  Wyoming           WY  under18  1990    136078.0          97818\n",
      "2447  Wyoming           WY    total  1990    453690.0          97818\n",
      "\n",
      "[2448 rows x 6 columns]\n"
     ]
    }
   ],
   "source": [
    "# Merge data frames together\n",
    "combined_df = pd.merge(ab_df, pop_df)\n",
    "combined_df = pd.merge(combined_df, area_df)\n",
    "print(combined_df)"
   ]
  },
  {
   "cell_type": "markdown",
   "id": "36e4ce1e",
   "metadata": {},
   "source": [
    "### Downselecting based on Multiple Conditions\n",
    "\n",
    "We can use multiple conditions to downselect in a dataframe. For example, suppose we only want the total population for each state in the year 2013."
   ]
  },
  {
   "cell_type": "code",
   "execution_count": 21,
   "id": "9b3cab49",
   "metadata": {},
   "outputs": [
    {
     "name": "stdout",
     "output_type": "stream",
     "text": [
      "                     state abbreviation   ages  year  population  \\\n",
      "9                  Alabama           AL  total  2013   4833722.0   \n",
      "87                  Alaska           AK  total  2013    735132.0   \n",
      "103                Arizona           AZ  total  2013   6626624.0   \n",
      "185               Arkansas           AR  total  2013   2959373.0   \n",
      "199             California           CA  total  2013  38332521.0   \n",
      "281               Colorado           CO  total  2013   5268367.0   \n",
      "295            Connecticut           CT  total  2013   3596080.0   \n",
      "375               Delaware           DE  total  2013    925749.0   \n",
      "391   District of Columbia           DC  total  2013    646449.0   \n",
      "473                Florida           FL  total  2013  19552860.0   \n",
      "486                Georgia           GA  total  2013   9992167.0   \n",
      "569                 Hawaii           HI  total  2013   1404054.0   \n",
      "582                  Idaho           ID  total  2013   1612136.0   \n",
      "665               Illinois           IL  total  2013  12882135.0   \n",
      "678                Indiana           IN  total  2013   6570902.0   \n",
      "761                   Iowa           IA  total  2013   3090416.0   \n",
      "774                 Kansas           KS  total  2013   2893957.0   \n",
      "857               Kentucky           KY  total  2013   4395295.0   \n",
      "870              Louisiana           LA  total  2013   4625470.0   \n",
      "953                  Maine           ME  total  2013   1328302.0   \n",
      "966                Montana           MT  total  2013   1015165.0   \n",
      "1049              Nebraska           NE  total  2013   1868516.0   \n",
      "1062                Nevada           NV  total  2013   2790136.0   \n",
      "1145         New Hampshire           NH  total  2013   1323459.0   \n",
      "1158            New Jersey           NJ  total  2013   8899339.0   \n",
      "1239            New Mexico           NM  total  2013   2085287.0   \n",
      "1256              New York           NY  total  2013  19651127.0   \n",
      "1335        North Carolina           NC  total  2013   9848060.0   \n",
      "1352          North Dakota           ND  total  2013    723393.0   \n",
      "1431                  Ohio           OH  total  2013  11570808.0   \n",
      "1448              Oklahoma           OK  total  2013   3850568.0   \n",
      "1527                Oregon           OR  total  2013   3930065.0   \n",
      "1542              Maryland           MD  total  2013   5928814.0   \n",
      "1625         Massachusetts           MA  total  2013   6692824.0   \n",
      "1638              Michigan           MI  total  2013   9895622.0   \n",
      "1721             Minnesota           MN  total  2013   5420380.0   \n",
      "1734           Mississippi           MS  total  2013   2991207.0   \n",
      "1817              Missouri           MO  total  2013   6044171.0   \n",
      "1832          Pennsylvania           PA  total  2013  12773801.0   \n",
      "1911          Rhode Island           RI  total  2013   1051511.0   \n",
      "1928        South Carolina           SC  total  2013   4774839.0   \n",
      "2007          South Dakota           SD  total  2013    844877.0   \n",
      "2024             Tennessee           TN  total  2013   6495978.0   \n",
      "2103                 Texas           TX  total  2013  26448193.0   \n",
      "2120                  Utah           UT  total  2013   2900872.0   \n",
      "2199               Vermont           VT  total  2013    626630.0   \n",
      "2216              Virginia           VA  total  2013   8260405.0   \n",
      "2295            Washington           WA  total  2013   6971406.0   \n",
      "2312         West Virginia           WV  total  2013   1854304.0   \n",
      "2391             Wisconsin           WI  total  2013   5742713.0   \n",
      "2408               Wyoming           WY  total  2013    582658.0   \n",
      "\n",
      "      area (sq. mi)  \n",
      "9             52423  \n",
      "87           656425  \n",
      "103          114006  \n",
      "185           53182  \n",
      "199          163707  \n",
      "281          104100  \n",
      "295            5544  \n",
      "375            1954  \n",
      "391              68  \n",
      "473           65758  \n",
      "486           59441  \n",
      "569           10932  \n",
      "582           83574  \n",
      "665           57918  \n",
      "678           36420  \n",
      "761           56276  \n",
      "774           82282  \n",
      "857           40411  \n",
      "870           51843  \n",
      "953           35387  \n",
      "966          147046  \n",
      "1049          77358  \n",
      "1062         110567  \n",
      "1145           9351  \n",
      "1158           8722  \n",
      "1239         121593  \n",
      "1256          54475  \n",
      "1335          53821  \n",
      "1352          70704  \n",
      "1431          44828  \n",
      "1448          69903  \n",
      "1527          98386  \n",
      "1542          12407  \n",
      "1625          10555  \n",
      "1638          96810  \n",
      "1721          86943  \n",
      "1734          48434  \n",
      "1817          69709  \n",
      "1832          46058  \n",
      "1911           1545  \n",
      "1928          32007  \n",
      "2007          77121  \n",
      "2024          42146  \n",
      "2103         268601  \n",
      "2120          84904  \n",
      "2199           9615  \n",
      "2216          42769  \n",
      "2295          71303  \n",
      "2312          24231  \n",
      "2391          65503  \n",
      "2408          97818  \n"
     ]
    }
   ],
   "source": [
    "# Down-select with multiple conditions\n",
    "df = combined_df[(combined_df[\"year\"] == 2013) & (combined_df[\"ages\"] == \"total\")]\n",
    "print(df)"
   ]
  },
  {
   "cell_type": "markdown",
   "id": "9ef7f161",
   "metadata": {},
   "source": [
    "### Histograms\n",
    "\n",
    "Suppose we want to find out what the histogram of state populations looks like in 2013."
   ]
  },
  {
   "cell_type": "code",
   "execution_count": 24,
   "id": "eba92bb1",
   "metadata": {},
   "outputs": [
    {
     "data": {
      "text/plain": [
       "(array([25., 14.,  6.,  2.,  0.,  2.,  1.,  0.,  0.,  1.]),\n",
       " array([  582658. ,  4357644.3,  8132630.6, 11907616.9, 15682603.2,\n",
       "        19457589.5, 23232575.8, 27007562.1, 30782548.4, 34557534.7,\n",
       "        38332521. ]),\n",
       " <BarContainer object of 10 artists>)"
      ]
     },
     "execution_count": 24,
     "metadata": {},
     "output_type": "execute_result"
    },
    {
     "data": {
      "image/png": "[encoded data removed]",
      "text/plain": [
       "<Figure size 1440x720 with 1 Axes>"
      ]
     },
     "metadata": {
      "needs_background": "light"
     },
     "output_type": "display_data"
    }
   ],
   "source": [
    "# Histogram of state populations in 2013\n",
    "plt.hist(df[\"population\"])"
   ]
  },
  {
   "cell_type": "markdown",
   "id": "cb26e18c",
   "metadata": {},
   "source": [
    "### Finding Unique Elements\n",
    "\n",
    "We can use numpy and unique to find the array of unique elements from a numpy array."
   ]
  },
  {
   "cell_type": "code",
   "execution_count": 26,
   "id": "6aaee79e",
   "metadata": {},
   "outputs": [
    {
     "name": "stdout",
     "output_type": "stream",
     "text": [
      "['AK' 'AL' 'AR' 'AZ' 'CA' 'CO' 'CT' 'DC' 'DE' 'FL' 'GA' 'HI' 'IA' 'ID'\n",
      " 'IL' 'IN' 'KS' 'KY' 'LA' 'MA' 'MD' 'ME' 'MI' 'MN' 'MO' 'MS' 'MT' 'NC'\n",
      " 'ND' 'NE' 'NH' 'NJ' 'NM' 'NV' 'NY' 'OH' 'OK' 'OR' 'PA' 'RI' 'SC' 'SD'\n",
      " 'TN' 'TX' 'UT' 'VA' 'VT' 'WA' 'WI' 'WV' 'WY']\n",
      "51\n"
     ]
    }
   ],
   "source": [
    "# Find unique list of states\n",
    "states = np.unique(combined_df[\"abbreviation\"])\n",
    "print(states)\n",
    "print(len(states))"
   ]
  },
  {
   "cell_type": "markdown",
   "id": "1dd5e83e",
   "metadata": {},
   "source": [
    "### Boxplots\n",
    "\n",
    "Suppose we want to see how much populations have varied in states in this dataset.  Boxplots can be a convenient plotting tool.  Using the unique list of state abbreviations, we can find all of the populations for each state and create a boxplot."
   ]
  },
  {
   "cell_type": "code",
   "execution_count": 29,
   "id": "5652296c",
   "metadata": {
    "scrolled": true
   },
   "outputs": [
    {
     "data": {
      "text/plain": [
       "([<matplotlib.axis.XTick at 0x127517c40>,\n",
       "  <matplotlib.axis.XTick at 0x127517c10>,\n",
       "  <matplotlib.axis.XTick at 0x12742e7c0>,\n",
       "  <matplotlib.axis.XTick at 0x1275570a0>,\n",
       "  <matplotlib.axis.XTick at 0x127557760>,\n",
       "  <matplotlib.axis.XTick at 0x1278a6040>,\n",
       "  <matplotlib.axis.XTick at 0x1278a6640>,\n",
       "  <matplotlib.axis.XTick at 0x1278a6d90>,\n",
       "  <matplotlib.axis.XTick at 0x1278a6a30>,\n",
       "  <matplotlib.axis.XTick at 0x127557a00>,\n",
       "  <matplotlib.axis.XTick at 0x1278ab5b0>,\n",
       "  <matplotlib.axis.XTick at 0x1278abd00>,\n",
       "  <matplotlib.axis.XTick at 0x1278b2490>,\n",
       "  <matplotlib.axis.XTick at 0x1278b2be0>,\n",
       "  <matplotlib.axis.XTick at 0x1278b7370>,\n",
       "  <matplotlib.axis.XTick at 0x1278b2c40>,\n",
       "  <matplotlib.axis.XTick at 0x127899d60>,\n",
       "  <matplotlib.axis.XTick at 0x1278b7430>,\n",
       "  <matplotlib.axis.XTick at 0x1278bf040>,\n",
       "  <matplotlib.axis.XTick at 0x1278bf640>,\n",
       "  <matplotlib.axis.XTick at 0x1278bfd90>,\n",
       "  <matplotlib.axis.XTick at 0x1278c6520>,\n",
       "  <matplotlib.axis.XTick at 0x1278b7e80>,\n",
       "  <matplotlib.axis.XTick at 0x1278b20d0>,\n",
       "  <matplotlib.axis.XTick at 0x1278c6910>,\n",
       "  <matplotlib.axis.XTick at 0x1278ca0a0>,\n",
       "  <matplotlib.axis.XTick at 0x1278ca7f0>,\n",
       "  <matplotlib.axis.XTick at 0x1278d30a0>,\n",
       "  <matplotlib.axis.XTick at 0x1278cacd0>,\n",
       "  <matplotlib.axis.XTick at 0x1278c6ca0>,\n",
       "  <matplotlib.axis.XTick at 0x1278bf6a0>,\n",
       "  <matplotlib.axis.XTick at 0x1278d3b50>,\n",
       "  <matplotlib.axis.XTick at 0x1278db2e0>,\n",
       "  <matplotlib.axis.XTick at 0x1278dba30>,\n",
       "  <matplotlib.axis.XTick at 0x1278e11c0>,\n",
       "  <matplotlib.axis.XTick at 0x1278dbaf0>,\n",
       "  <matplotlib.axis.XTick at 0x1278bfa00>,\n",
       "  <matplotlib.axis.XTick at 0x1278e1280>,\n",
       "  <matplotlib.axis.XTick at 0x1278e1e20>,\n",
       "  <matplotlib.axis.XTick at 0x1278ea5b0>,\n",
       "  <matplotlib.axis.XTick at 0x1278ead00>,\n",
       "  <matplotlib.axis.XTick at 0x1278ef490>,\n",
       "  <matplotlib.axis.XTick at 0x1278ea6a0>,\n",
       "  <matplotlib.axis.XTick at 0x1278d3370>,\n",
       "  <matplotlib.axis.XTick at 0x1278ef880>,\n",
       "  <matplotlib.axis.XTick at 0x1278f60a0>,\n",
       "  <matplotlib.axis.XTick at 0x1278f6760>,\n",
       "  <matplotlib.axis.XTick at 0x1278fe040>,\n",
       "  <matplotlib.axis.XTick at 0x1278f6f10>,\n",
       "  <matplotlib.axis.XTick at 0x1278efd60>,\n",
       "  <matplotlib.axis.XTick at 0x1278ea310>],\n",
       " [Text(1, 0, 'AK'),\n",
       "  Text(2, 0, 'AL'),\n",
       "  Text(3, 0, 'AR'),\n",
       "  Text(4, 0, 'AZ'),\n",
       "  Text(5, 0, 'CA'),\n",
       "  Text(6, 0, 'CO'),\n",
       "  Text(7, 0, 'CT'),\n",
       "  Text(8, 0, 'DC'),\n",
       "  Text(9, 0, 'DE'),\n",
       "  Text(10, 0, 'FL'),\n",
       "  Text(11, 0, 'GA'),\n",
       "  Text(12, 0, 'HI'),\n",
       "  Text(13, 0, 'IA'),\n",
       "  Text(14, 0, 'ID'),\n",
       "  Text(15, 0, 'IL'),\n",
       "  Text(16, 0, 'IN'),\n",
       "  Text(17, 0, 'KS'),\n",
       "  Text(18, 0, 'KY'),\n",
       "  Text(19, 0, 'LA'),\n",
       "  Text(20, 0, 'MA'),\n",
       "  Text(21, 0, 'MD'),\n",
       "  Text(22, 0, 'ME'),\n",
       "  Text(23, 0, 'MI'),\n",
       "  Text(24, 0, 'MN'),\n",
       "  Text(25, 0, 'MO'),\n",
       "  Text(26, 0, 'MS'),\n",
       "  Text(27, 0, 'MT'),\n",
       "  Text(28, 0, 'NC'),\n",
       "  Text(29, 0, 'ND'),\n",
       "  Text(30, 0, 'NE'),\n",
       "  Text(31, 0, 'NH'),\n",
       "  Text(32, 0, 'NJ'),\n",
       "  Text(33, 0, 'NM'),\n",
       "  Text(34, 0, 'NV'),\n",
       "  Text(35, 0, 'NY'),\n",
       "  Text(36, 0, 'OH'),\n",
       "  Text(37, 0, 'OK'),\n",
       "  Text(38, 0, 'OR'),\n",
       "  Text(39, 0, 'PA'),\n",
       "  Text(40, 0, 'RI'),\n",
       "  Text(41, 0, 'SC'),\n",
       "  Text(42, 0, 'SD'),\n",
       "  Text(43, 0, 'TN'),\n",
       "  Text(44, 0, 'TX'),\n",
       "  Text(45, 0, 'UT'),\n",
       "  Text(46, 0, 'VA'),\n",
       "  Text(47, 0, 'VT'),\n",
       "  Text(48, 0, 'WA'),\n",
       "  Text(49, 0, 'WI'),\n",
       "  Text(50, 0, 'WV'),\n",
       "  Text(51, 0, 'WY')])"
      ]
     },
     "execution_count": 29,
     "metadata": {},
     "output_type": "execute_result"
    },
    {
     "data": {
      "image/png": "[encoded data removed]",
      "text/plain": [
       "<Figure size 1440x720 with 1 Axes>"
      ]
     },
     "metadata": {
      "needs_background": "light"
     },
     "output_type": "display_data"
    }
   ],
   "source": [
    "# Extract populations for each state and create the boxplots\n",
    "populations = []\n",
    "for state in states:\n",
    "    population = np.array(combined_df[(combined_df[\"abbreviation\"] == state) & (combined_df[\"ages\"] == \"total\")][\"population\"])\n",
    "    populations.append(population)\n",
    "    \n",
    "plt.boxplot(populations)\n",
    "plt.xticks(range(1,len(states)+1), states)"
   ]
  },
  {
   "cell_type": "markdown",
   "id": "23aefd7e",
   "metadata": {},
   "source": [
    "### Scatter Plots\n",
    "\n",
    "We can visualize the population of the state in 2013 vs. the area of the state using scatter plots."
   ]
  },
  {
   "cell_type": "code",
   "execution_count": 32,
   "id": "7d351fe7",
   "metadata": {},
   "outputs": [
    {
     "data": {
      "image/png": "[encoded data removed]",
      "text/plain": [
       "<Figure size 1440x720 with 1 Axes>"
      ]
     },
     "metadata": {
      "needs_background": "light"
     },
     "output_type": "display_data"
    }
   ],
   "source": [
    "# Create the scatter plot of population vs. area and annotate the points\n",
    "areas = np.array(combined_df[(combined_df[\"ages\"] == \"total\") & (combined_df[\"year\"] == 2013)][\"area (sq. mi)\"])\n",
    "populations = np.array(combined_df[(combined_df[\"ages\"] == \"total\") & (combined_df[\"year\"] == 2013)][\"population\"])\n",
    "plt.scatter(populations, areas)\n",
    "\n",
    "for i in range(len(states)):\n",
    "    plt.annotate(states[i], (populations[i], areas[i]))"
   ]
  },
  {
   "cell_type": "markdown",
   "id": "6accd474",
   "metadata": {},
   "source": [
    "### What is a question would you like to answer based on the full combined dataset?"
   ]
  }
 ],
 "metadata": {
  "kernelspec": {
   "display_name": "Python 3 (ipykernel)",
   "language": "python",
   "name": "python3"
  },
  "language_info": {
   "codemirror_mode": {
    "name": "ipython",
    "version": 3
   },
   "file_extension": ".py",
   "mimetype": "text/x-python",
   "name": "python",
   "nbconvert_exporter": "python",
   "pygments_lexer": "ipython3",
   "version": "3.9.10"
  }
 },
 "nbformat": 4,
 "nbformat_minor": 5
}
